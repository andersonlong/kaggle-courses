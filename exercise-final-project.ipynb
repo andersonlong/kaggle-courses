{
 "cells": [
  {
   "cell_type": "markdown",
   "id": "affc259d",
   "metadata": {
    "papermill": {
     "duration": 0.007073,
     "end_time": "2022-07-07T12:57:45.113843",
     "exception": false,
     "start_time": "2022-07-07T12:57:45.106770",
     "status": "completed"
    },
    "tags": []
   },
   "source": [
    "**This notebook is an exercise in the [Data Visualization](https://www.kaggle.com/learn/data-visualization) course.  You can reference the tutorial at [this link](https://www.kaggle.com/alexisbcook/final-project).**\n",
    "\n",
    "---\n"
   ]
  },
  {
   "cell_type": "markdown",
   "id": "ed7b856d",
   "metadata": {
    "papermill": {
     "duration": 0.005631,
     "end_time": "2022-07-07T12:57:45.126128",
     "exception": false,
     "start_time": "2022-07-07T12:57:45.120497",
     "status": "completed"
    },
    "tags": []
   },
   "source": [
    "Now it's time for you to demonstrate your new skills with a project of your own!\n",
    "\n",
    "In this exercise, you will work with a dataset of your choosing.  Once you've selected a dataset, you'll design and create your own plot to tell interesting stories behind the data!\n",
    "\n",
    "## Setup\n",
    "\n",
    "Run the next cell to import and configure the Python libraries that you need to complete the exercise."
   ]
  },
  {
   "cell_type": "code",
   "execution_count": 1,
   "id": "cba050e3",
   "metadata": {
    "execution": {
     "iopub.execute_input": "2022-07-07T12:57:45.140007Z",
     "iopub.status.busy": "2022-07-07T12:57:45.139447Z",
     "iopub.status.idle": "2022-07-07T12:57:46.461011Z",
     "shell.execute_reply": "2022-07-07T12:57:46.459683Z"
    },
    "papermill": {
     "duration": 1.331477,
     "end_time": "2022-07-07T12:57:46.463549",
     "exception": false,
     "start_time": "2022-07-07T12:57:45.132072",
     "status": "completed"
    },
    "tags": []
   },
   "outputs": [
    {
     "name": "stdout",
     "output_type": "stream",
     "text": [
      "Setup Complete\n"
     ]
    }
   ],
   "source": [
    "import pandas as pd\n",
    "pd.plotting.register_matplotlib_converters()\n",
    "import matplotlib.pyplot as plt\n",
    "%matplotlib inline\n",
    "import seaborn as sns\n",
    "print(\"Setup Complete\")"
   ]
  },
  {
   "cell_type": "markdown",
   "id": "65fb057f",
   "metadata": {
    "papermill": {
     "duration": 0.005961,
     "end_time": "2022-07-07T12:57:46.476162",
     "exception": false,
     "start_time": "2022-07-07T12:57:46.470201",
     "status": "completed"
    },
    "tags": []
   },
   "source": [
    "The questions below will give you feedback on your work. Run the following cell to set up the feedback system."
   ]
  },
  {
   "cell_type": "code",
   "execution_count": 2,
   "id": "dd1ecd71",
   "metadata": {
    "execution": {
     "iopub.execute_input": "2022-07-07T12:57:46.492082Z",
     "iopub.status.busy": "2022-07-07T12:57:46.491383Z",
     "iopub.status.idle": "2022-07-07T12:57:46.547166Z",
     "shell.execute_reply": "2022-07-07T12:57:46.546498Z"
    },
    "papermill": {
     "duration": 0.066722,
     "end_time": "2022-07-07T12:57:46.549458",
     "exception": false,
     "start_time": "2022-07-07T12:57:46.482736",
     "status": "completed"
    },
    "tags": []
   },
   "outputs": [
    {
     "name": "stdout",
     "output_type": "stream",
     "text": [
      "Setup Complete\n"
     ]
    }
   ],
   "source": [
    "# Set up code checking\n",
    "from learntools.core import binder\n",
    "binder.bind(globals())\n",
    "from learntools.data_viz_to_coder.ex7 import *\n",
    "print(\"Setup Complete\")"
   ]
  },
  {
   "cell_type": "markdown",
   "id": "be6126bf",
   "metadata": {
    "papermill": {
     "duration": 0.005801,
     "end_time": "2022-07-07T12:57:46.561506",
     "exception": false,
     "start_time": "2022-07-07T12:57:46.555705",
     "status": "completed"
    },
    "tags": []
   },
   "source": [
    "## Step 1: Attach a dataset to the notebook\n",
    "\n",
    "Begin by selecting a CSV dataset from [Kaggle Datasets](https://www.kaggle.com/datasets).  If you're unsure how to do this, please revisit the instructions in the previous tutorial.\n",
    "\n",
    "Once you have selected a dataset, click on the **[+ Add data]** option in the top right corner.  This will generate a pop-up window that you can use to search for your chosen dataset.  \n",
    "\n",
    "![ex6_search_dataset](https://i.imgur.com/cIIWPUS.png)\n",
    "\n",
    "Once you have found the dataset, click on the **[Add]** button to attach it to the notebook.  You can check that it was successful by looking at the **Data** dropdown menu to the right of the notebook -- look for an **input** folder containing a subfolder that matches the name of the dataset.\n",
    "\n",
    "<center>\n",
    "<img src=\"https://i.imgur.com/nMYc1Nu.png\" width=30%><br/>\n",
    "</center>\n",
    "\n",
    "You can click on the carat to the left of the name of the dataset to double-check that it contains a CSV file.  For instance, the image below shows that the example dataset contains two CSV files: (1) **dc-wikia-data.csv**, and (2) **marvel-wikia-data.csv**.\n",
    "\n",
    "<center>\n",
    "<img src=\"https://i.imgur.com/B4sJkVA.png\" width=30%><br/>\n",
    "</center>\n",
    "\n",
    "Once you've uploaded a dataset with a CSV file, run the code cell below **without changes** to receive credit for your work!"
   ]
  },
  {
   "cell_type": "code",
   "execution_count": 3,
   "id": "5796593e",
   "metadata": {
    "execution": {
     "iopub.execute_input": "2022-07-07T12:57:46.576841Z",
     "iopub.status.busy": "2022-07-07T12:57:46.576088Z",
     "iopub.status.idle": "2022-07-07T12:57:46.592914Z",
     "shell.execute_reply": "2022-07-07T12:57:46.592293Z"
    },
    "papermill": {
     "duration": 0.026219,
     "end_time": "2022-07-07T12:57:46.594500",
     "exception": false,
     "start_time": "2022-07-07T12:57:46.568281",
     "status": "completed"
    },
    "tags": []
   },
   "outputs": [
    {
     "data": {
      "application/javascript": [
       "parent.postMessage({\"jupyterEvent\": \"custom.exercise_interaction\", \"data\": {\"outcomeType\": 1, \"valueTowardsCompletion\": 0.25, \"interactionType\": 1, \"questionType\": 2, \"questionId\": \"1_AttachData\", \"learnToolsVersion\": \"0.3.4\", \"failureMessage\": \"\", \"exceptionClass\": \"\", \"trace\": \"\"}}, \"*\")"
      ],
      "text/plain": [
       "<IPython.core.display.Javascript object>"
      ]
     },
     "metadata": {},
     "output_type": "display_data"
    },
    {
     "data": {
      "text/markdown": [
       "<span style=\"color:#33cc33\">Correct:</span> \n",
       "\n"
      ],
      "text/plain": [
       "Correct: \n"
      ]
     },
     "metadata": {},
     "output_type": "display_data"
    }
   ],
   "source": [
    "# Check for a dataset with a CSV file\n",
    "step_1.check()"
   ]
  },
  {
   "cell_type": "markdown",
   "id": "a8871d6c",
   "metadata": {
    "papermill": {
     "duration": 0.003575,
     "end_time": "2022-07-07T12:57:46.602164",
     "exception": false,
     "start_time": "2022-07-07T12:57:46.598589",
     "status": "completed"
    },
    "tags": []
   },
   "source": [
    "## Step 2: Specify the filepath\n",
    "\n",
    "Now that the dataset is attached to the notebook, you can find its filepath.  To do this, begin by clicking on the CSV file you'd like to use.  This will open the CSV file in a tab below the notebook.  You can find the filepath towards the top of this new tab.  \n",
    "\n",
    "![ex6_filepath](https://i.imgur.com/fgXQV47.png)\n",
    "\n",
    "After you find the filepath corresponding to your dataset, fill it in as the value for `my_filepath` in the code cell below, and run the code cell to check that you've provided a valid filepath.  For instance, in the case of this example dataset, we would set\n",
    "```\n",
    "my_filepath = \"../input/fivethirtyeight-comic-characters-dataset/dc-wikia-data.csv\"\n",
    "```  \n",
    "Note that **you must enclose the filepath in quotation marks**; otherwise, the code will return an error.\n",
    "\n",
    "Once you've entered the filepath, you can close the tab below the notebook by clicking on the **[X]** at the top of the tab."
   ]
  },
  {
   "cell_type": "code",
   "execution_count": 4,
   "id": "435d88b3",
   "metadata": {
    "execution": {
     "iopub.execute_input": "2022-07-07T12:57:46.611630Z",
     "iopub.status.busy": "2022-07-07T12:57:46.611022Z",
     "iopub.status.idle": "2022-07-07T12:57:46.620354Z",
     "shell.execute_reply": "2022-07-07T12:57:46.619228Z"
    },
    "papermill": {
     "duration": 0.016109,
     "end_time": "2022-07-07T12:57:46.622040",
     "exception": false,
     "start_time": "2022-07-07T12:57:46.605931",
     "status": "completed"
    },
    "tags": []
   },
   "outputs": [
    {
     "data": {
      "application/javascript": [
       "parent.postMessage({\"jupyterEvent\": \"custom.exercise_interaction\", \"data\": {\"outcomeType\": 1, \"valueTowardsCompletion\": 0.25, \"interactionType\": 1, \"questionType\": 2, \"questionId\": \"2_Filepath\", \"learnToolsVersion\": \"0.3.4\", \"failureMessage\": \"\", \"exceptionClass\": \"\", \"trace\": \"\"}}, \"*\")"
      ],
      "text/plain": [
       "<IPython.core.display.Javascript object>"
      ]
     },
     "metadata": {},
     "output_type": "display_data"
    },
    {
     "data": {
      "text/markdown": [
       "<span style=\"color:#33cc33\">Correct:</span> \n",
       "\n"
      ],
      "text/plain": [
       "Correct: \n"
      ]
     },
     "metadata": {},
     "output_type": "display_data"
    }
   ],
   "source": [
    "# Fill in the line below: Specify the path of the CSV file to read\n",
    "my_filepath = \"../input/nsw-covid19-cases-by-location/confirmed_cases_table1_location.csv\"\n",
    "\n",
    "# Check for a valid filepath to a CSV file in a dataset\n",
    "step_2.check()"
   ]
  },
  {
   "cell_type": "markdown",
   "id": "2694a068",
   "metadata": {
    "papermill": {
     "duration": 0.003774,
     "end_time": "2022-07-07T12:57:46.630063",
     "exception": false,
     "start_time": "2022-07-07T12:57:46.626289",
     "status": "completed"
    },
    "tags": []
   },
   "source": [
    "## Step 3: Load the data\n",
    "\n",
    "Use the next code cell to load your data file into `my_data`.  Use the filepath that you specified in the previous step."
   ]
  },
  {
   "cell_type": "code",
   "execution_count": 5,
   "id": "70cafec1",
   "metadata": {
    "execution": {
     "iopub.execute_input": "2022-07-07T12:57:46.640141Z",
     "iopub.status.busy": "2022-07-07T12:57:46.639584Z",
     "iopub.status.idle": "2022-07-07T12:57:48.087832Z",
     "shell.execute_reply": "2022-07-07T12:57:48.086937Z"
    },
    "papermill": {
     "duration": 1.455803,
     "end_time": "2022-07-07T12:57:48.089818",
     "exception": false,
     "start_time": "2022-07-07T12:57:46.634015",
     "status": "completed"
    },
    "tags": []
   },
   "outputs": [
    {
     "data": {
      "application/javascript": [
       "parent.postMessage({\"jupyterEvent\": \"custom.exercise_interaction\", \"data\": {\"outcomeType\": 1, \"valueTowardsCompletion\": 0.25, \"interactionType\": 1, \"questionType\": 2, \"questionId\": \"3_LoadData\", \"learnToolsVersion\": \"0.3.4\", \"failureMessage\": \"\", \"exceptionClass\": \"\", \"trace\": \"\"}}, \"*\")"
      ],
      "text/plain": [
       "<IPython.core.display.Javascript object>"
      ]
     },
     "metadata": {},
     "output_type": "display_data"
    },
    {
     "data": {
      "text/markdown": [
       "<span style=\"color:#33cc33\">Correct:</span> \n",
       "\n"
      ],
      "text/plain": [
       "Correct: \n"
      ]
     },
     "metadata": {},
     "output_type": "display_data"
    }
   ],
   "source": [
    "# Fill in the line below: Read the file into a variable my_data\n",
    "my_data = pd.read_csv(my_filepath)\n",
    "\n",
    "# Check that a dataset has been uploaded into my_data\n",
    "step_3.check()"
   ]
  },
  {
   "cell_type": "markdown",
   "id": "b5d33d36",
   "metadata": {
    "papermill": {
     "duration": 0.004579,
     "end_time": "2022-07-07T12:57:48.099100",
     "exception": false,
     "start_time": "2022-07-07T12:57:48.094521",
     "status": "completed"
    },
    "tags": []
   },
   "source": [
    "**_After the code cell above is marked correct_**, run the code cell below without changes to view the first five rows of the data."
   ]
  },
  {
   "cell_type": "code",
   "execution_count": 6,
   "id": "7a02c20d",
   "metadata": {
    "execution": {
     "iopub.execute_input": "2022-07-07T12:57:48.110614Z",
     "iopub.status.busy": "2022-07-07T12:57:48.109986Z",
     "iopub.status.idle": "2022-07-07T12:57:48.130794Z",
     "shell.execute_reply": "2022-07-07T12:57:48.129933Z"
    },
    "papermill": {
     "duration": 0.028549,
     "end_time": "2022-07-07T12:57:48.132595",
     "exception": false,
     "start_time": "2022-07-07T12:57:48.104046",
     "status": "completed"
    },
    "tags": []
   },
   "outputs": [
    {
     "data": {
      "text/html": [
       "<div>\n",
       "<style scoped>\n",
       "    .dataframe tbody tr th:only-of-type {\n",
       "        vertical-align: middle;\n",
       "    }\n",
       "\n",
       "    .dataframe tbody tr th {\n",
       "        vertical-align: top;\n",
       "    }\n",
       "\n",
       "    .dataframe thead th {\n",
       "        text-align: right;\n",
       "    }\n",
       "</style>\n",
       "<table border=\"1\" class=\"dataframe\">\n",
       "  <thead>\n",
       "    <tr style=\"text-align: right;\">\n",
       "      <th></th>\n",
       "      <th>notification_date</th>\n",
       "      <th>postcode</th>\n",
       "      <th>lhd_2010_code</th>\n",
       "      <th>lhd_2010_name</th>\n",
       "      <th>lga_code19</th>\n",
       "      <th>lga_name19</th>\n",
       "    </tr>\n",
       "  </thead>\n",
       "  <tbody>\n",
       "    <tr>\n",
       "      <th>0</th>\n",
       "      <td>2020-01-25</td>\n",
       "      <td>2134</td>\n",
       "      <td>X700</td>\n",
       "      <td>Sydney</td>\n",
       "      <td>11300</td>\n",
       "      <td>Burwood (A)</td>\n",
       "    </tr>\n",
       "    <tr>\n",
       "      <th>1</th>\n",
       "      <td>2020-01-25</td>\n",
       "      <td>2121</td>\n",
       "      <td>X760</td>\n",
       "      <td>Northern Sydney</td>\n",
       "      <td>16260</td>\n",
       "      <td>Parramatta (C)</td>\n",
       "    </tr>\n",
       "    <tr>\n",
       "      <th>2</th>\n",
       "      <td>2020-01-25</td>\n",
       "      <td>2071</td>\n",
       "      <td>X760</td>\n",
       "      <td>Northern Sydney</td>\n",
       "      <td>14500</td>\n",
       "      <td>Ku-ring-gai (A)</td>\n",
       "    </tr>\n",
       "    <tr>\n",
       "      <th>3</th>\n",
       "      <td>2020-01-27</td>\n",
       "      <td>2033</td>\n",
       "      <td>X720</td>\n",
       "      <td>South Eastern Sydney</td>\n",
       "      <td>16550</td>\n",
       "      <td>Randwick (C)</td>\n",
       "    </tr>\n",
       "    <tr>\n",
       "      <th>4</th>\n",
       "      <td>2020-03-01</td>\n",
       "      <td>2077</td>\n",
       "      <td>X760</td>\n",
       "      <td>Northern Sydney</td>\n",
       "      <td>14000</td>\n",
       "      <td>Hornsby (A)</td>\n",
       "    </tr>\n",
       "  </tbody>\n",
       "</table>\n",
       "</div>"
      ],
      "text/plain": [
       "  notification_date postcode lhd_2010_code         lhd_2010_name lga_code19  \\\n",
       "0        2020-01-25     2134          X700                Sydney      11300   \n",
       "1        2020-01-25     2121          X760       Northern Sydney      16260   \n",
       "2        2020-01-25     2071          X760       Northern Sydney      14500   \n",
       "3        2020-01-27     2033          X720  South Eastern Sydney      16550   \n",
       "4        2020-03-01     2077          X760       Northern Sydney      14000   \n",
       "\n",
       "        lga_name19  \n",
       "0      Burwood (A)  \n",
       "1   Parramatta (C)  \n",
       "2  Ku-ring-gai (A)  \n",
       "3     Randwick (C)  \n",
       "4      Hornsby (A)  "
      ]
     },
     "execution_count": 6,
     "metadata": {},
     "output_type": "execute_result"
    }
   ],
   "source": [
    "# Print the first five rows of the data\n",
    "my_data.head()"
   ]
  },
  {
   "cell_type": "code",
   "execution_count": 7,
   "id": "15e83e5e",
   "metadata": {
    "execution": {
     "iopub.execute_input": "2022-07-07T12:57:48.145498Z",
     "iopub.status.busy": "2022-07-07T12:57:48.144937Z",
     "iopub.status.idle": "2022-07-07T12:57:48.155129Z",
     "shell.execute_reply": "2022-07-07T12:57:48.154297Z"
    },
    "papermill": {
     "duration": 0.018966,
     "end_time": "2022-07-07T12:57:48.157126",
     "exception": false,
     "start_time": "2022-07-07T12:57:48.138160",
     "status": "completed"
    },
    "tags": []
   },
   "outputs": [
    {
     "data": {
      "text/html": [
       "<div>\n",
       "<style scoped>\n",
       "    .dataframe tbody tr th:only-of-type {\n",
       "        vertical-align: middle;\n",
       "    }\n",
       "\n",
       "    .dataframe tbody tr th {\n",
       "        vertical-align: top;\n",
       "    }\n",
       "\n",
       "    .dataframe thead th {\n",
       "        text-align: right;\n",
       "    }\n",
       "</style>\n",
       "<table border=\"1\" class=\"dataframe\">\n",
       "  <thead>\n",
       "    <tr style=\"text-align: right;\">\n",
       "      <th></th>\n",
       "      <th>notification_date</th>\n",
       "      <th>postcode</th>\n",
       "      <th>lhd_2010_code</th>\n",
       "      <th>lhd_2010_name</th>\n",
       "      <th>lga_code19</th>\n",
       "      <th>lga_name19</th>\n",
       "    </tr>\n",
       "  </thead>\n",
       "  <tbody>\n",
       "    <tr>\n",
       "      <th>973407</th>\n",
       "      <td>2022-02-07</td>\n",
       "      <td>2283</td>\n",
       "      <td>X800</td>\n",
       "      <td>Hunter New England</td>\n",
       "      <td>14650</td>\n",
       "      <td>Lake Macquarie (C)</td>\n",
       "    </tr>\n",
       "    <tr>\n",
       "      <th>973408</th>\n",
       "      <td>2022-02-07</td>\n",
       "      <td>2019</td>\n",
       "      <td>X720</td>\n",
       "      <td>South Eastern Sydney</td>\n",
       "      <td>10500</td>\n",
       "      <td>Bayside (A)</td>\n",
       "    </tr>\n",
       "    <tr>\n",
       "      <th>973409</th>\n",
       "      <td>2022-02-07</td>\n",
       "      <td>2076</td>\n",
       "      <td>X760</td>\n",
       "      <td>Northern Sydney</td>\n",
       "      <td>14500</td>\n",
       "      <td>Ku-ring-gai (A)</td>\n",
       "    </tr>\n",
       "    <tr>\n",
       "      <th>973410</th>\n",
       "      <td>2022-02-07</td>\n",
       "      <td>2760</td>\n",
       "      <td>X750</td>\n",
       "      <td>Nepean Blue Mountains</td>\n",
       "      <td>16350</td>\n",
       "      <td>Penrith (C)</td>\n",
       "    </tr>\n",
       "    <tr>\n",
       "      <th>973411</th>\n",
       "      <td>2022-02-07</td>\n",
       "      <td>2066</td>\n",
       "      <td>X760</td>\n",
       "      <td>Northern Sydney</td>\n",
       "      <td>14700</td>\n",
       "      <td>Lane Cove (A)</td>\n",
       "    </tr>\n",
       "  </tbody>\n",
       "</table>\n",
       "</div>"
      ],
      "text/plain": [
       "       notification_date postcode lhd_2010_code          lhd_2010_name  \\\n",
       "973407        2022-02-07     2283          X800     Hunter New England   \n",
       "973408        2022-02-07     2019          X720   South Eastern Sydney   \n",
       "973409        2022-02-07     2076          X760        Northern Sydney   \n",
       "973410        2022-02-07     2760          X750  Nepean Blue Mountains   \n",
       "973411        2022-02-07     2066          X760        Northern Sydney   \n",
       "\n",
       "       lga_code19          lga_name19  \n",
       "973407      14650  Lake Macquarie (C)  \n",
       "973408      10500         Bayside (A)  \n",
       "973409      14500     Ku-ring-gai (A)  \n",
       "973410      16350         Penrith (C)  \n",
       "973411      14700       Lane Cove (A)  "
      ]
     },
     "execution_count": 7,
     "metadata": {},
     "output_type": "execute_result"
    }
   ],
   "source": [
    "# Print the last five rows of the data\n",
    "my_data.tail()"
   ]
  },
  {
   "cell_type": "markdown",
   "id": "ac6d6fa0",
   "metadata": {
    "papermill": {
     "duration": 0.004856,
     "end_time": "2022-07-07T12:57:48.166934",
     "exception": false,
     "start_time": "2022-07-07T12:57:48.162078",
     "status": "completed"
    },
    "tags": []
   },
   "source": [
    "## Step 4: Visualize the data\n",
    "\n",
    "Use the next code cell to create a figure that tells a story behind your dataset.  You can use any chart type (_line chart, bar chart, heatmap, etc_) of your choosing!"
   ]
  },
  {
   "cell_type": "code",
   "execution_count": 8,
   "id": "0a94e240",
   "metadata": {
    "execution": {
     "iopub.execute_input": "2022-07-07T12:57:48.178109Z",
     "iopub.status.busy": "2022-07-07T12:57:48.177785Z",
     "iopub.status.idle": "2022-07-07T12:57:48.519146Z",
     "shell.execute_reply": "2022-07-07T12:57:48.518306Z"
    },
    "papermill": {
     "duration": 0.349244,
     "end_time": "2022-07-07T12:57:48.520992",
     "exception": false,
     "start_time": "2022-07-07T12:57:48.171748",
     "status": "completed"
    },
    "tags": []
   },
   "outputs": [
    {
     "data": {
      "text/html": [
       "<div>\n",
       "<style scoped>\n",
       "    .dataframe tbody tr th:only-of-type {\n",
       "        vertical-align: middle;\n",
       "    }\n",
       "\n",
       "    .dataframe tbody tr th {\n",
       "        vertical-align: top;\n",
       "    }\n",
       "\n",
       "    .dataframe thead th {\n",
       "        text-align: right;\n",
       "    }\n",
       "</style>\n",
       "<table border=\"1\" class=\"dataframe\">\n",
       "  <thead>\n",
       "    <tr style=\"text-align: right;\">\n",
       "      <th></th>\n",
       "      <th>notification_date</th>\n",
       "      <th>postcode</th>\n",
       "      <th>lhd_2010_code</th>\n",
       "      <th>lhd_2010_name</th>\n",
       "      <th>lga_code19</th>\n",
       "    </tr>\n",
       "    <tr>\n",
       "      <th>lga_name19</th>\n",
       "      <th></th>\n",
       "      <th></th>\n",
       "      <th></th>\n",
       "      <th></th>\n",
       "      <th></th>\n",
       "    </tr>\n",
       "  </thead>\n",
       "  <tbody>\n",
       "    <tr>\n",
       "      <th>Albury (C)</th>\n",
       "      <td>4945</td>\n",
       "      <td>4945</td>\n",
       "      <td>4945</td>\n",
       "      <td>4945</td>\n",
       "      <td>4945</td>\n",
       "    </tr>\n",
       "    <tr>\n",
       "      <th>Armidale Regional (A)</th>\n",
       "      <td>2263</td>\n",
       "      <td>2263</td>\n",
       "      <td>2263</td>\n",
       "      <td>2263</td>\n",
       "      <td>2263</td>\n",
       "    </tr>\n",
       "    <tr>\n",
       "      <th>Ballina (A)</th>\n",
       "      <td>3775</td>\n",
       "      <td>3775</td>\n",
       "      <td>3775</td>\n",
       "      <td>3775</td>\n",
       "      <td>3775</td>\n",
       "    </tr>\n",
       "    <tr>\n",
       "      <th>Balranald (A)</th>\n",
       "      <td>155</td>\n",
       "      <td>155</td>\n",
       "      <td>155</td>\n",
       "      <td>155</td>\n",
       "      <td>155</td>\n",
       "    </tr>\n",
       "    <tr>\n",
       "      <th>Bathurst Regional (A)</th>\n",
       "      <td>3608</td>\n",
       "      <td>3608</td>\n",
       "      <td>3608</td>\n",
       "      <td>3608</td>\n",
       "      <td>3608</td>\n",
       "    </tr>\n",
       "    <tr>\n",
       "      <th>...</th>\n",
       "      <td>...</td>\n",
       "      <td>...</td>\n",
       "      <td>...</td>\n",
       "      <td>...</td>\n",
       "      <td>...</td>\n",
       "    </tr>\n",
       "    <tr>\n",
       "      <th>Wingecarribee (A)</th>\n",
       "      <td>4196</td>\n",
       "      <td>4196</td>\n",
       "      <td>4196</td>\n",
       "      <td>4196</td>\n",
       "      <td>4196</td>\n",
       "    </tr>\n",
       "    <tr>\n",
       "      <th>Wollondilly (A)</th>\n",
       "      <td>4491</td>\n",
       "      <td>4491</td>\n",
       "      <td>4491</td>\n",
       "      <td>4491</td>\n",
       "      <td>4491</td>\n",
       "    </tr>\n",
       "    <tr>\n",
       "      <th>Wollongong (C)</th>\n",
       "      <td>25143</td>\n",
       "      <td>25143</td>\n",
       "      <td>25143</td>\n",
       "      <td>25143</td>\n",
       "      <td>25143</td>\n",
       "    </tr>\n",
       "    <tr>\n",
       "      <th>Woollahra (A)</th>\n",
       "      <td>6927</td>\n",
       "      <td>6927</td>\n",
       "      <td>6927</td>\n",
       "      <td>6927</td>\n",
       "      <td>6927</td>\n",
       "    </tr>\n",
       "    <tr>\n",
       "      <th>Yass Valley (A)</th>\n",
       "      <td>856</td>\n",
       "      <td>856</td>\n",
       "      <td>856</td>\n",
       "      <td>856</td>\n",
       "      <td>856</td>\n",
       "    </tr>\n",
       "  </tbody>\n",
       "</table>\n",
       "<p>130 rows × 5 columns</p>\n",
       "</div>"
      ],
      "text/plain": [
       "                       notification_date  postcode  lhd_2010_code  \\\n",
       "lga_name19                                                          \n",
       "Albury (C)                          4945      4945           4945   \n",
       "Armidale Regional (A)               2263      2263           2263   \n",
       "Ballina (A)                         3775      3775           3775   \n",
       "Balranald (A)                        155       155            155   \n",
       "Bathurst Regional (A)               3608      3608           3608   \n",
       "...                                  ...       ...            ...   \n",
       "Wingecarribee (A)                   4196      4196           4196   \n",
       "Wollondilly (A)                     4491      4491           4491   \n",
       "Wollongong (C)                     25143     25143          25143   \n",
       "Woollahra (A)                       6927      6927           6927   \n",
       "Yass Valley (A)                      856       856            856   \n",
       "\n",
       "                       lhd_2010_name  lga_code19  \n",
       "lga_name19                                        \n",
       "Albury (C)                      4945        4945  \n",
       "Armidale Regional (A)           2263        2263  \n",
       "Ballina (A)                     3775        3775  \n",
       "Balranald (A)                    155         155  \n",
       "Bathurst Regional (A)           3608        3608  \n",
       "...                              ...         ...  \n",
       "Wingecarribee (A)               4196        4196  \n",
       "Wollondilly (A)                 4491        4491  \n",
       "Wollongong (C)                 25143       25143  \n",
       "Woollahra (A)                   6927        6927  \n",
       "Yass Valley (A)                  856         856  \n",
       "\n",
       "[130 rows x 5 columns]"
      ]
     },
     "execution_count": 8,
     "metadata": {},
     "output_type": "execute_result"
    }
   ],
   "source": [
    "# Group cases by LGA name\n",
    "my_data_grouped = my_data.groupby('lga_name19').count()\n",
    "my_data_grouped"
   ]
  },
  {
   "cell_type": "code",
   "execution_count": 9,
   "id": "1e36760a",
   "metadata": {
    "execution": {
     "iopub.execute_input": "2022-07-07T12:57:48.534329Z",
     "iopub.status.busy": "2022-07-07T12:57:48.532631Z",
     "iopub.status.idle": "2022-07-07T12:57:50.842306Z",
     "shell.execute_reply": "2022-07-07T12:57:50.841457Z"
    },
    "papermill": {
     "duration": 2.318359,
     "end_time": "2022-07-07T12:57:50.844657",
     "exception": false,
     "start_time": "2022-07-07T12:57:48.526298",
     "status": "completed"
    },
    "tags": []
   },
   "outputs": [
    {
     "data": {
      "application/javascript": [
       "parent.postMessage({\"jupyterEvent\": \"custom.exercise_interaction\", \"data\": {\"outcomeType\": 1, \"valueTowardsCompletion\": 0.25, \"interactionType\": 1, \"questionType\": 2, \"questionId\": \"4_CreatePlot\", \"learnToolsVersion\": \"0.3.4\", \"failureMessage\": \"\", \"exceptionClass\": \"\", \"trace\": \"\"}}, \"*\")"
      ],
      "text/plain": [
       "<IPython.core.display.Javascript object>"
      ]
     },
     "metadata": {},
     "output_type": "display_data"
    },
    {
     "data": {
      "text/markdown": [
       "<span style=\"color:#33cc33\">Correct:</span> \n",
       "\n"
      ],
      "text/plain": [
       "Correct: \n"
      ]
     },
     "metadata": {},
     "output_type": "display_data"
    },
    {
     "data": {
      "image/png": "[encoded data removed]",
      "text/plain": [
       "<Figure size 720x1800 with 1 Axes>"
      ]
     },
     "metadata": {
      "needs_background": "light"
     },
     "output_type": "display_data"
    }
   ],
   "source": [
    "# Create a plot\n",
    "plt.figure(figsize=(10,25))\n",
    "plot = sns.barplot(data=my_data_grouped,y=my_data_grouped.index,x='notification_date') # Your code here\n",
    "\n",
    "# Label axes\n",
    "plot.set_xlabel(\"Number of Cases\")\n",
    "plot.set_ylabel(\"LGA\")\n",
    "\n",
    "# Set title\n",
    "plot.set_title(\"Number of Covid Cases per LGA between January '20 - February '22\")\n",
    "\n",
    "# Save figure\n",
    "plt.savefig('covid_cases_per_lga')\n",
    "\n",
    "# Check that a figure appears below\n",
    "step_4.check()"
   ]
  },
  {
   "cell_type": "markdown",
   "id": "3b59f7f6",
   "metadata": {
    "papermill": {
     "duration": 0.006962,
     "end_time": "2022-07-07T12:57:50.858760",
     "exception": false,
     "start_time": "2022-07-07T12:57:50.851798",
     "status": "completed"
    },
    "tags": []
   },
   "source": [
    "## Keep going\n",
    "\n",
    "Learn how to use your skills after completing the micro-course to create data visualizations in a **[final tutorial](https://www.kaggle.com/alexisbcook/creating-your-own-notebooks)**."
   ]
  },
  {
   "cell_type": "markdown",
   "id": "fd11e7a0",
   "metadata": {
    "papermill": {
     "duration": 0.006735,
     "end_time": "2022-07-07T12:57:50.872622",
     "exception": false,
     "start_time": "2022-07-07T12:57:50.865887",
     "status": "completed"
    },
    "tags": []
   },
   "source": [
    "---\n",
    "\n",
    "\n",
    "\n",
    "\n",
    "*Have questions or comments? Visit the [course discussion forum](https://www.kaggle.com/learn/data-visualization/discussion) to chat with other learners.*"
   ]
  }
 ],
 "metadata": {
  "kernelspec": {
   "display_name": "Python 3",
   "language": "python",
   "name": "python3"
  },
  "language_info": {
   "codemirror_mode": {
    "name": "ipython",
    "version": 3
   },
   "file_extension": ".py",
   "mimetype": "text/x-python",
   "name": "python",
   "nbconvert_exporter": "python",
   "pygments_lexer": "ipython3",
   "version": "3.7.12"
  },
  "papermill": {
   "default_parameters": {},
   "duration": 16.365821,
   "end_time": "2022-07-07T12:57:51.702008",
   "environment_variables": {},
   "exception": null,
   "input_path": "__notebook__.ipynb",
   "output_path": "__notebook__.ipynb",
   "parameters": {},
   "start_time": "2022-07-07T12:57:35.336187",
   "version": "2.3.4"
  }
 },
 "nbformat": 4,
 "nbformat_minor": 5
}
