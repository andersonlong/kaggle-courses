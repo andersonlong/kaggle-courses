{
 "cells": [
  {
   "cell_type": "markdown",
   "id": "c2d89709",
   "metadata": {
    "papermill": {
     "duration": 0.010872,
     "end_time": "2022-07-07T09:36:45.537952",
     "exception": false,
     "start_time": "2022-07-07T09:36:45.527080",
     "status": "completed"
    },
    "tags": []
   },
   "source": [
    "**This notebook is an exercise in the [Data Visualization](https://www.kaggle.com/learn/data-visualization) course.  You can reference the tutorial at [this link](https://www.kaggle.com/alexisbcook/scatter-plots).**\n",
    "\n",
    "---\n"
   ]
  },
  {
   "cell_type": "markdown",
   "id": "0d948d65",
   "metadata": {
    "papermill": {
     "duration": 0.009054,
     "end_time": "2022-07-07T09:36:45.556597",
     "exception": false,
     "start_time": "2022-07-07T09:36:45.547543",
     "status": "completed"
    },
    "tags": []
   },
   "source": [
    "In this exercise, you will use your new knowledge to propose a solution to a real-world scenario.  To succeed, you will need to import data into Python, answer questions using the data, and generate **scatter plots** to understand patterns in the data.\n",
    "\n",
    "## Scenario\n",
    "\n",
    "You work for a major candy producer, and your goal is to write a report that your company can use to guide the design of its next product.  Soon after starting your research, you stumble across this [very interesting dataset](https://fivethirtyeight.com/features/the-ultimate-halloween-candy-power-ranking/) containing results from a fun survey to crowdsource favorite candies.\n",
    "\n",
    "## Setup\n",
    "\n",
    "Run the next cell to import and configure the Python libraries that you need to complete the exercise."
   ]
  },
  {
   "cell_type": "code",
   "execution_count": 1,
   "id": "1aedc6c9",
   "metadata": {
    "execution": {
     "iopub.execute_input": "2022-07-07T09:36:45.578400Z",
     "iopub.status.busy": "2022-07-07T09:36:45.577100Z",
     "iopub.status.idle": "2022-07-07T09:36:46.640759Z",
     "shell.execute_reply": "2022-07-07T09:36:46.638990Z"
    },
    "papermill": {
     "duration": 1.077566,
     "end_time": "2022-07-07T09:36:46.643568",
     "exception": false,
     "start_time": "2022-07-07T09:36:45.566002",
     "status": "completed"
    },
    "tags": []
   },
   "outputs": [
    {
     "name": "stdout",
     "output_type": "stream",
     "text": [
      "Setup Complete\n"
     ]
    }
   ],
   "source": [
    "import pandas as pd\n",
    "pd.plotting.register_matplotlib_converters()\n",
    "import matplotlib.pyplot as plt\n",
    "%matplotlib inline\n",
    "import seaborn as sns\n",
    "print(\"Setup Complete\")"
   ]
  },
  {
   "cell_type": "markdown",
   "id": "1c680575",
   "metadata": {
    "papermill": {
     "duration": 0.009308,
     "end_time": "2022-07-07T09:36:46.662415",
     "exception": false,
     "start_time": "2022-07-07T09:36:46.653107",
     "status": "completed"
    },
    "tags": []
   },
   "source": [
    "The questions below will give you feedback on your work. Run the following cell to set up our feedback system."
   ]
  },
  {
   "cell_type": "code",
   "execution_count": 2,
   "id": "09406d41",
   "metadata": {
    "execution": {
     "iopub.execute_input": "2022-07-07T09:36:46.683688Z",
     "iopub.status.busy": "2022-07-07T09:36:46.682926Z",
     "iopub.status.idle": "2022-07-07T09:36:46.746052Z",
     "shell.execute_reply": "2022-07-07T09:36:46.744760Z"
    },
    "papermill": {
     "duration": 0.076525,
     "end_time": "2022-07-07T09:36:46.748563",
     "exception": false,
     "start_time": "2022-07-07T09:36:46.672038",
     "status": "completed"
    },
    "tags": []
   },
   "outputs": [
    {
     "name": "stdout",
     "output_type": "stream",
     "text": [
      "Setup Complete\n"
     ]
    }
   ],
   "source": [
    "# Set up code checking\n",
    "import os\n",
    "if not os.path.exists(\"../input/candy.csv\"):\n",
    "    os.symlink(\"../input/data-for-datavis/candy.csv\", \"../input/candy.csv\") \n",
    "from learntools.core import binder\n",
    "binder.bind(globals())\n",
    "from learntools.data_viz_to_coder.ex4 import *\n",
    "print(\"Setup Complete\")"
   ]
  },
  {
   "cell_type": "markdown",
   "id": "8b290735",
   "metadata": {
    "papermill": {
     "duration": 0.009368,
     "end_time": "2022-07-07T09:36:46.767798",
     "exception": false,
     "start_time": "2022-07-07T09:36:46.758430",
     "status": "completed"
    },
    "tags": []
   },
   "source": [
    "## Step 1: Load the Data\n",
    "\n",
    "Read the candy data file into `candy_data`.  Use the `\"id\"` column to label the rows."
   ]
  },
  {
   "cell_type": "code",
   "execution_count": 3,
   "id": "f0e12729",
   "metadata": {
    "execution": {
     "iopub.execute_input": "2022-07-07T09:36:46.789105Z",
     "iopub.status.busy": "2022-07-07T09:36:46.788344Z",
     "iopub.status.idle": "2022-07-07T09:36:46.805156Z",
     "shell.execute_reply": "2022-07-07T09:36:46.804053Z"
    },
    "papermill": {
     "duration": 0.029994,
     "end_time": "2022-07-07T09:36:46.807342",
     "exception": false,
     "start_time": "2022-07-07T09:36:46.777348",
     "status": "completed"
    },
    "tags": []
   },
   "outputs": [
    {
     "data": {
      "application/javascript": [
       "parent.postMessage({\"jupyterEvent\": \"custom.exercise_interaction\", \"data\": {\"outcomeType\": 1, \"valueTowardsCompletion\": 0.3333333333333333, \"interactionType\": 1, \"questionType\": 1, \"questionId\": \"1_LoadData\", \"learnToolsVersion\": \"0.3.4\", \"failureMessage\": \"\", \"exceptionClass\": \"\", \"trace\": \"\"}}, \"*\")"
      ],
      "text/plain": [
       "<IPython.core.display.Javascript object>"
      ]
     },
     "metadata": {},
     "output_type": "display_data"
    },
    {
     "data": {
      "text/markdown": [
       "<span style=\"color:#33cc33\">Correct</span>"
      ],
      "text/plain": [
       "Correct"
      ]
     },
     "metadata": {},
     "output_type": "display_data"
    }
   ],
   "source": [
    "# Path of the file to read\n",
    "candy_filepath = \"../input/candy.csv\"\n",
    "\n",
    "# Fill in the line below to read the file into a variable candy_data\n",
    "candy_data = pd.read_csv(candy_filepath,index_col='id')\n",
    "\n",
    "# Run the line below with no changes to check that you've loaded the data correctly\n",
    "step_1.check()"
   ]
  },
  {
   "cell_type": "code",
   "execution_count": 4,
   "id": "579ff02f",
   "metadata": {
    "execution": {
     "iopub.execute_input": "2022-07-07T09:36:46.828964Z",
     "iopub.status.busy": "2022-07-07T09:36:46.828576Z",
     "iopub.status.idle": "2022-07-07T09:36:46.832749Z",
     "shell.execute_reply": "2022-07-07T09:36:46.831659Z"
    },
    "papermill": {
     "duration": 0.01779,
     "end_time": "2022-07-07T09:36:46.835003",
     "exception": false,
     "start_time": "2022-07-07T09:36:46.817213",
     "status": "completed"
    },
    "tags": []
   },
   "outputs": [],
   "source": [
    "# Lines below will give you a hint or solution code\n",
    "#step_1.hint()\n",
    "#step_1.solution()"
   ]
  },
  {
   "cell_type": "markdown",
   "id": "e5cafc87",
   "metadata": {
    "papermill": {
     "duration": 0.009642,
     "end_time": "2022-07-07T09:36:46.855331",
     "exception": false,
     "start_time": "2022-07-07T09:36:46.845689",
     "status": "completed"
    },
    "tags": []
   },
   "source": [
    "## Step 2: Review the data\n",
    "\n",
    "Use a Python command to print the first five rows of the data."
   ]
  },
  {
   "cell_type": "code",
   "execution_count": 5,
   "id": "464822b2",
   "metadata": {
    "execution": {
     "iopub.execute_input": "2022-07-07T09:36:46.876925Z",
     "iopub.status.busy": "2022-07-07T09:36:46.876538Z",
     "iopub.status.idle": "2022-07-07T09:36:46.903850Z",
     "shell.execute_reply": "2022-07-07T09:36:46.902731Z"
    },
    "papermill": {
     "duration": 0.04089,
     "end_time": "2022-07-07T09:36:46.906132",
     "exception": false,
     "start_time": "2022-07-07T09:36:46.865242",
     "status": "completed"
    },
    "tags": []
   },
   "outputs": [
    {
     "data": {
      "text/html": [
       "<div>\n",
       "<style scoped>\n",
       "    .dataframe tbody tr th:only-of-type {\n",
       "        vertical-align: middle;\n",
       "    }\n",
       "\n",
       "    .dataframe tbody tr th {\n",
       "        vertical-align: top;\n",
       "    }\n",
       "\n",
       "    .dataframe thead th {\n",
       "        text-align: right;\n",
       "    }\n",
       "</style>\n",
       "<table border=\"1\" class=\"dataframe\">\n",
       "  <thead>\n",
       "    <tr style=\"text-align: right;\">\n",
       "      <th></th>\n",
       "      <th>competitorname</th>\n",
       "      <th>chocolate</th>\n",
       "      <th>fruity</th>\n",
       "      <th>caramel</th>\n",
       "      <th>peanutyalmondy</th>\n",
       "      <th>nougat</th>\n",
       "      <th>crispedricewafer</th>\n",
       "      <th>hard</th>\n",
       "      <th>bar</th>\n",
       "      <th>pluribus</th>\n",
       "      <th>sugarpercent</th>\n",
       "      <th>pricepercent</th>\n",
       "      <th>winpercent</th>\n",
       "    </tr>\n",
       "    <tr>\n",
       "      <th>id</th>\n",
       "      <th></th>\n",
       "      <th></th>\n",
       "      <th></th>\n",
       "      <th></th>\n",
       "      <th></th>\n",
       "      <th></th>\n",
       "      <th></th>\n",
       "      <th></th>\n",
       "      <th></th>\n",
       "      <th></th>\n",
       "      <th></th>\n",
       "      <th></th>\n",
       "      <th></th>\n",
       "    </tr>\n",
       "  </thead>\n",
       "  <tbody>\n",
       "    <tr>\n",
       "      <th>0</th>\n",
       "      <td>100 Grand</td>\n",
       "      <td>Yes</td>\n",
       "      <td>No</td>\n",
       "      <td>Yes</td>\n",
       "      <td>No</td>\n",
       "      <td>No</td>\n",
       "      <td>Yes</td>\n",
       "      <td>No</td>\n",
       "      <td>Yes</td>\n",
       "      <td>No</td>\n",
       "      <td>0.732</td>\n",
       "      <td>0.860</td>\n",
       "      <td>66.971725</td>\n",
       "    </tr>\n",
       "    <tr>\n",
       "      <th>1</th>\n",
       "      <td>3 Musketeers</td>\n",
       "      <td>Yes</td>\n",
       "      <td>No</td>\n",
       "      <td>No</td>\n",
       "      <td>No</td>\n",
       "      <td>Yes</td>\n",
       "      <td>No</td>\n",
       "      <td>No</td>\n",
       "      <td>Yes</td>\n",
       "      <td>No</td>\n",
       "      <td>0.604</td>\n",
       "      <td>0.511</td>\n",
       "      <td>67.602936</td>\n",
       "    </tr>\n",
       "    <tr>\n",
       "      <th>2</th>\n",
       "      <td>Air Heads</td>\n",
       "      <td>No</td>\n",
       "      <td>Yes</td>\n",
       "      <td>No</td>\n",
       "      <td>No</td>\n",
       "      <td>No</td>\n",
       "      <td>No</td>\n",
       "      <td>No</td>\n",
       "      <td>No</td>\n",
       "      <td>No</td>\n",
       "      <td>0.906</td>\n",
       "      <td>0.511</td>\n",
       "      <td>52.341465</td>\n",
       "    </tr>\n",
       "    <tr>\n",
       "      <th>3</th>\n",
       "      <td>Almond Joy</td>\n",
       "      <td>Yes</td>\n",
       "      <td>No</td>\n",
       "      <td>No</td>\n",
       "      <td>Yes</td>\n",
       "      <td>No</td>\n",
       "      <td>No</td>\n",
       "      <td>No</td>\n",
       "      <td>Yes</td>\n",
       "      <td>No</td>\n",
       "      <td>0.465</td>\n",
       "      <td>0.767</td>\n",
       "      <td>50.347546</td>\n",
       "    </tr>\n",
       "    <tr>\n",
       "      <th>4</th>\n",
       "      <td>Baby Ruth</td>\n",
       "      <td>Yes</td>\n",
       "      <td>No</td>\n",
       "      <td>Yes</td>\n",
       "      <td>Yes</td>\n",
       "      <td>Yes</td>\n",
       "      <td>No</td>\n",
       "      <td>No</td>\n",
       "      <td>Yes</td>\n",
       "      <td>No</td>\n",
       "      <td>0.604</td>\n",
       "      <td>0.767</td>\n",
       "      <td>56.914547</td>\n",
       "    </tr>\n",
       "    <tr>\n",
       "      <th>...</th>\n",
       "      <td>...</td>\n",
       "      <td>...</td>\n",
       "      <td>...</td>\n",
       "      <td>...</td>\n",
       "      <td>...</td>\n",
       "      <td>...</td>\n",
       "      <td>...</td>\n",
       "      <td>...</td>\n",
       "      <td>...</td>\n",
       "      <td>...</td>\n",
       "      <td>...</td>\n",
       "      <td>...</td>\n",
       "      <td>...</td>\n",
       "    </tr>\n",
       "    <tr>\n",
       "      <th>78</th>\n",
       "      <td>Twizzlers</td>\n",
       "      <td>No</td>\n",
       "      <td>Yes</td>\n",
       "      <td>No</td>\n",
       "      <td>No</td>\n",
       "      <td>No</td>\n",
       "      <td>No</td>\n",
       "      <td>No</td>\n",
       "      <td>No</td>\n",
       "      <td>No</td>\n",
       "      <td>0.220</td>\n",
       "      <td>0.116</td>\n",
       "      <td>45.466282</td>\n",
       "    </tr>\n",
       "    <tr>\n",
       "      <th>79</th>\n",
       "      <td>Warheads</td>\n",
       "      <td>No</td>\n",
       "      <td>Yes</td>\n",
       "      <td>No</td>\n",
       "      <td>No</td>\n",
       "      <td>No</td>\n",
       "      <td>No</td>\n",
       "      <td>Yes</td>\n",
       "      <td>No</td>\n",
       "      <td>No</td>\n",
       "      <td>0.093</td>\n",
       "      <td>0.116</td>\n",
       "      <td>39.011898</td>\n",
       "    </tr>\n",
       "    <tr>\n",
       "      <th>80</th>\n",
       "      <td>Welch's Fruit Snacks</td>\n",
       "      <td>No</td>\n",
       "      <td>Yes</td>\n",
       "      <td>No</td>\n",
       "      <td>No</td>\n",
       "      <td>No</td>\n",
       "      <td>No</td>\n",
       "      <td>No</td>\n",
       "      <td>No</td>\n",
       "      <td>Yes</td>\n",
       "      <td>0.313</td>\n",
       "      <td>0.313</td>\n",
       "      <td>44.375519</td>\n",
       "    </tr>\n",
       "    <tr>\n",
       "      <th>81</th>\n",
       "      <td>Werther's Original Caramel</td>\n",
       "      <td>No</td>\n",
       "      <td>No</td>\n",
       "      <td>Yes</td>\n",
       "      <td>No</td>\n",
       "      <td>No</td>\n",
       "      <td>No</td>\n",
       "      <td>Yes</td>\n",
       "      <td>No</td>\n",
       "      <td>No</td>\n",
       "      <td>0.186</td>\n",
       "      <td>0.267</td>\n",
       "      <td>41.904308</td>\n",
       "    </tr>\n",
       "    <tr>\n",
       "      <th>82</th>\n",
       "      <td>Whoppers</td>\n",
       "      <td>Yes</td>\n",
       "      <td>No</td>\n",
       "      <td>No</td>\n",
       "      <td>No</td>\n",
       "      <td>No</td>\n",
       "      <td>Yes</td>\n",
       "      <td>No</td>\n",
       "      <td>No</td>\n",
       "      <td>Yes</td>\n",
       "      <td>0.872</td>\n",
       "      <td>0.848</td>\n",
       "      <td>49.524113</td>\n",
       "    </tr>\n",
       "  </tbody>\n",
       "</table>\n",
       "<p>83 rows × 13 columns</p>\n",
       "</div>"
      ],
      "text/plain": [
       "                competitorname chocolate fruity caramel peanutyalmondy nougat  \\\n",
       "id                                                                              \n",
       "0                    100 Grand       Yes     No     Yes             No     No   \n",
       "1                 3 Musketeers       Yes     No      No             No    Yes   \n",
       "2                    Air Heads        No    Yes      No             No     No   \n",
       "3                   Almond Joy       Yes     No      No            Yes     No   \n",
       "4                    Baby Ruth       Yes     No     Yes            Yes    Yes   \n",
       "..                         ...       ...    ...     ...            ...    ...   \n",
       "78                   Twizzlers        No    Yes      No             No     No   \n",
       "79                    Warheads        No    Yes      No             No     No   \n",
       "80        Welch's Fruit Snacks        No    Yes      No             No     No   \n",
       "81  Werther's Original Caramel        No     No     Yes             No     No   \n",
       "82                    Whoppers       Yes     No      No             No     No   \n",
       "\n",
       "   crispedricewafer hard  bar pluribus  sugarpercent  pricepercent  winpercent  \n",
       "id                                                                              \n",
       "0               Yes   No  Yes       No         0.732         0.860   66.971725  \n",
       "1                No   No  Yes       No         0.604         0.511   67.602936  \n",
       "2                No   No   No       No         0.906         0.511   52.341465  \n",
       "3                No   No  Yes       No         0.465         0.767   50.347546  \n",
       "4                No   No  Yes       No         0.604         0.767   56.914547  \n",
       "..              ...  ...  ...      ...           ...           ...         ...  \n",
       "78               No   No   No       No         0.220         0.116   45.466282  \n",
       "79               No  Yes   No       No         0.093         0.116   39.011898  \n",
       "80               No   No   No      Yes         0.313         0.313   44.375519  \n",
       "81               No  Yes   No       No         0.186         0.267   41.904308  \n",
       "82              Yes   No   No      Yes         0.872         0.848   49.524113  \n",
       "\n",
       "[83 rows x 13 columns]"
      ]
     },
     "execution_count": 5,
     "metadata": {},
     "output_type": "execute_result"
    }
   ],
   "source": [
    "# Print the first five rows of the data\n",
    "candy_data # Your code here"
   ]
  },
  {
   "cell_type": "markdown",
   "id": "4b872fb7",
   "metadata": {
    "papermill": {
     "duration": 0.00995,
     "end_time": "2022-07-07T09:36:46.926705",
     "exception": false,
     "start_time": "2022-07-07T09:36:46.916755",
     "status": "completed"
    },
    "tags": []
   },
   "source": [
    "The dataset contains 83 rows, where each corresponds to a different candy bar.  There are 13 columns:\n",
    "- `'competitorname'` contains the name of the candy bar. \n",
    "- the next **9** columns (from `'chocolate'` to `'pluribus'`) describe the candy.  For instance, rows with chocolate candies have `\"Yes\"` in the `'chocolate'` column (and candies without chocolate have `\"No\"` in the same column).\n",
    "- `'sugarpercent'` provides some indication of the amount of sugar, where higher values signify higher sugar content.\n",
    "- `'pricepercent'` shows the price per unit, relative to the other candies in the dataset.\n",
    "- `'winpercent'` is calculated from the survey results; higher values indicate that the candy was more popular with survey respondents.\n",
    "\n",
    "Use the first five rows of the data to answer the questions below."
   ]
  },
  {
   "cell_type": "code",
   "execution_count": 6,
   "id": "226442a1",
   "metadata": {
    "execution": {
     "iopub.execute_input": "2022-07-07T09:36:46.949344Z",
     "iopub.status.busy": "2022-07-07T09:36:46.948654Z",
     "iopub.status.idle": "2022-07-07T09:36:46.956412Z",
     "shell.execute_reply": "2022-07-07T09:36:46.955615Z"
    },
    "papermill": {
     "duration": 0.021236,
     "end_time": "2022-07-07T09:36:46.958302",
     "exception": false,
     "start_time": "2022-07-07T09:36:46.937066",
     "status": "completed"
    },
    "tags": []
   },
   "outputs": [
    {
     "data": {
      "application/javascript": [
       "parent.postMessage({\"jupyterEvent\": \"custom.exercise_interaction\", \"data\": {\"outcomeType\": 1, \"valueTowardsCompletion\": 0.3333333333333333, \"interactionType\": 1, \"questionType\": 1, \"questionId\": \"2_ReviewData\", \"learnToolsVersion\": \"0.3.4\", \"failureMessage\": \"\", \"exceptionClass\": \"\", \"trace\": \"\"}}, \"*\")"
      ],
      "text/plain": [
       "<IPython.core.display.Javascript object>"
      ]
     },
     "metadata": {},
     "output_type": "display_data"
    },
    {
     "data": {
      "text/markdown": [
       "<span style=\"color:#33cc33\">Correct</span>"
      ],
      "text/plain": [
       "Correct"
      ]
     },
     "metadata": {},
     "output_type": "display_data"
    }
   ],
   "source": [
    "# Fill in the line below: Which candy was more popular with survey respondents:\n",
    "# '3 Musketeers' or 'Almond Joy'?  (Please enclose your answer in single quotes.)\n",
    "more_popular = '3 Musketeers'\n",
    "\n",
    "# Fill in the line below: Which candy has higher sugar content: 'Air Heads'\n",
    "# or 'Baby Ruth'? (Please enclose your answer in single quotes.)\n",
    "more_sugar = 'Air Heads'\n",
    "\n",
    "# Check your answers\n",
    "step_2.check()"
   ]
  },
  {
   "cell_type": "code",
   "execution_count": 7,
   "id": "236a1d20",
   "metadata": {
    "execution": {
     "iopub.execute_input": "2022-07-07T09:36:46.981672Z",
     "iopub.status.busy": "2022-07-07T09:36:46.980499Z",
     "iopub.status.idle": "2022-07-07T09:36:46.985126Z",
     "shell.execute_reply": "2022-07-07T09:36:46.984266Z"
    },
    "papermill": {
     "duration": 0.018254,
     "end_time": "2022-07-07T09:36:46.987073",
     "exception": false,
     "start_time": "2022-07-07T09:36:46.968819",
     "status": "completed"
    },
    "tags": []
   },
   "outputs": [],
   "source": [
    "# Lines below will give you a hint or solution code\n",
    "#step_2.hint()\n",
    "#step_2.solution()"
   ]
  },
  {
   "cell_type": "markdown",
   "id": "89603077",
   "metadata": {
    "papermill": {
     "duration": 0.010274,
     "end_time": "2022-07-07T09:36:47.008019",
     "exception": false,
     "start_time": "2022-07-07T09:36:46.997745",
     "status": "completed"
    },
    "tags": []
   },
   "source": [
    "## Step 3: The role of sugar\n",
    "\n",
    "Do people tend to prefer candies with higher sugar content?  \n",
    "\n",
    "#### Part A\n",
    "\n",
    "Create a scatter plot that shows the relationship between `'sugarpercent'` (on the horizontal x-axis) and `'winpercent'` (on the vertical y-axis).  _Don't add a regression line just yet -- you'll do that in the next step!_"
   ]
  },
  {
   "cell_type": "code",
   "execution_count": 8,
   "id": "bea422e6",
   "metadata": {
    "execution": {
     "iopub.execute_input": "2022-07-07T09:36:47.031173Z",
     "iopub.status.busy": "2022-07-07T09:36:47.030768Z",
     "iopub.status.idle": "2022-07-07T09:36:47.269767Z",
     "shell.execute_reply": "2022-07-07T09:36:47.268680Z"
    },
    "papermill": {
     "duration": 0.253683,
     "end_time": "2022-07-07T09:36:47.272329",
     "exception": false,
     "start_time": "2022-07-07T09:36:47.018646",
     "status": "completed"
    },
    "tags": []
   },
   "outputs": [
    {
     "data": {
      "application/javascript": [
       "parent.postMessage({\"jupyterEvent\": \"custom.exercise_interaction\", \"data\": {\"outcomeType\": 1, \"valueTowardsCompletion\": 0.3333333333333333, \"interactionType\": 1, \"questionType\": 2, \"questionId\": \"3.1_PlotBlueScatter\", \"learnToolsVersion\": \"0.3.4\", \"failureMessage\": \"\", \"exceptionClass\": \"\", \"trace\": \"\"}}, \"*\")"
      ],
      "text/plain": [
       "<IPython.core.display.Javascript object>"
      ]
     },
     "metadata": {},
     "output_type": "display_data"
    },
    {
     "data": {
      "text/markdown": [
       "<span style=\"color:#33cc33\">Correct</span>"
      ],
      "text/plain": [
       "Correct"
      ]
     },
     "metadata": {},
     "output_type": "display_data"
    },
    {
     "data": {
      "image/png": "[encoded data removed]",
      "text/plain": [
       "<Figure size 432x288 with 1 Axes>"
      ]
     },
     "metadata": {
      "needs_background": "light"
     },
     "output_type": "display_data"
    }
   ],
   "source": [
    "# Scatter plot showing the relationship between 'sugarpercent' and 'winpercent'\n",
    "sns.scatterplot(x=candy_data['sugarpercent'],y=candy_data['winpercent']) # Your code here\n",
    "\n",
    "# Check your answer\n",
    "step_3.a.check()"
   ]
  },
  {
   "cell_type": "code",
   "execution_count": 9,
   "id": "da0ccff2",
   "metadata": {
    "execution": {
     "iopub.execute_input": "2022-07-07T09:36:47.296821Z",
     "iopub.status.busy": "2022-07-07T09:36:47.296455Z",
     "iopub.status.idle": "2022-07-07T09:36:47.300669Z",
     "shell.execute_reply": "2022-07-07T09:36:47.299544Z"
    },
    "papermill": {
     "duration": 0.019265,
     "end_time": "2022-07-07T09:36:47.302992",
     "exception": false,
     "start_time": "2022-07-07T09:36:47.283727",
     "status": "completed"
    },
    "tags": []
   },
   "outputs": [],
   "source": [
    "# Lines below will give you a hint or solution code\n",
    "#step_3.a.hint()\n",
    "#step_3.a.solution_plot()"
   ]
  },
  {
   "cell_type": "markdown",
   "id": "6e63e27e",
   "metadata": {
    "papermill": {
     "duration": 0.010901,
     "end_time": "2022-07-07T09:36:47.325213",
     "exception": false,
     "start_time": "2022-07-07T09:36:47.314312",
     "status": "completed"
    },
    "tags": []
   },
   "source": [
    "#### Part B\n",
    "\n",
    "Does the scatter plot show a **strong** correlation between the two variables?  If so, are candies with more sugar relatively more or less popular with the survey respondents?"
   ]
  },
  {
   "cell_type": "code",
   "execution_count": 10,
   "id": "828bebb0",
   "metadata": {
    "execution": {
     "iopub.execute_input": "2022-07-07T09:36:47.349558Z",
     "iopub.status.busy": "2022-07-07T09:36:47.348857Z",
     "iopub.status.idle": "2022-07-07T09:36:47.354012Z",
     "shell.execute_reply": "2022-07-07T09:36:47.352969Z"
    },
    "papermill": {
     "duration": 0.019771,
     "end_time": "2022-07-07T09:36:47.356291",
     "exception": false,
     "start_time": "2022-07-07T09:36:47.336520",
     "status": "completed"
    },
    "tags": []
   },
   "outputs": [],
   "source": [
    "#step_3.b.hint()"
   ]
  },
  {
   "cell_type": "code",
   "execution_count": 11,
   "id": "abfd692a",
   "metadata": {
    "execution": {
     "iopub.execute_input": "2022-07-07T09:36:47.380644Z",
     "iopub.status.busy": "2022-07-07T09:36:47.380252Z",
     "iopub.status.idle": "2022-07-07T09:36:47.389222Z",
     "shell.execute_reply": "2022-07-07T09:36:47.388124Z"
    },
    "papermill": {
     "duration": 0.023734,
     "end_time": "2022-07-07T09:36:47.391374",
     "exception": false,
     "start_time": "2022-07-07T09:36:47.367640",
     "status": "completed"
    },
    "tags": []
   },
   "outputs": [
    {
     "data": {
      "application/javascript": [
       "parent.postMessage({\"jupyterEvent\": \"custom.exercise_interaction\", \"data\": {\"interactionType\": 3, \"questionType\": 4, \"questionId\": \"3.2_ThinkBlueScatter\", \"learnToolsVersion\": \"0.3.4\", \"valueTowardsCompletion\": 0.0, \"failureMessage\": \"\", \"exceptionClass\": \"\", \"trace\": \"\", \"outcomeType\": 4}}, \"*\")"
      ],
      "text/plain": [
       "<IPython.core.display.Javascript object>"
      ]
     },
     "metadata": {},
     "output_type": "display_data"
    },
    {
     "data": {
      "text/markdown": [
       "<span style=\"color:#33cc99\">Solution:</span> The scatter plot does not show a strong correlation between the two variables. Since there is no clear relationship between the two variables, this tells us that sugar content does not play a strong role in candy popularity."
      ],
      "text/plain": [
       "Solution: The scatter plot does not show a strong correlation between the two variables. Since there is no clear relationship between the two variables, this tells us that sugar content does not play a strong role in candy popularity."
      ]
     },
     "metadata": {},
     "output_type": "display_data"
    }
   ],
   "source": [
    "# Check your answer (Run this code cell to receive credit!)\n",
    "step_3.b.solution()"
   ]
  },
  {
   "cell_type": "markdown",
   "id": "bea7e736",
   "metadata": {
    "papermill": {
     "duration": 0.011185,
     "end_time": "2022-07-07T09:36:47.414002",
     "exception": false,
     "start_time": "2022-07-07T09:36:47.402817",
     "status": "completed"
    },
    "tags": []
   },
   "source": [
    "## Step 4: Take a closer look\n",
    "\n",
    "#### Part A\n",
    "\n",
    "Create the same scatter plot you created in **Step 3**, but now with a regression line!"
   ]
  },
  {
   "cell_type": "code",
   "execution_count": 12,
   "id": "9482ea1d",
   "metadata": {
    "execution": {
     "iopub.execute_input": "2022-07-07T09:36:47.439734Z",
     "iopub.status.busy": "2022-07-07T09:36:47.438892Z",
     "iopub.status.idle": "2022-07-07T09:36:47.741077Z",
     "shell.execute_reply": "2022-07-07T09:36:47.739807Z"
    },
    "papermill": {
     "duration": 0.31745,
     "end_time": "2022-07-07T09:36:47.743418",
     "exception": false,
     "start_time": "2022-07-07T09:36:47.425968",
     "status": "completed"
    },
    "tags": []
   },
   "outputs": [
    {
     "data": {
      "application/javascript": [
       "parent.postMessage({\"jupyterEvent\": \"custom.exercise_interaction\", \"data\": {\"outcomeType\": 1, \"valueTowardsCompletion\": 0.3333333333333333, \"interactionType\": 1, \"questionType\": 2, \"questionId\": \"4.1_PlotBlueReg\", \"learnToolsVersion\": \"0.3.4\", \"failureMessage\": \"\", \"exceptionClass\": \"\", \"trace\": \"\"}}, \"*\")"
      ],
      "text/plain": [
       "<IPython.core.display.Javascript object>"
      ]
     },
     "metadata": {},
     "output_type": "display_data"
    },
    {
     "data": {
      "text/markdown": [
       "<span style=\"color:#33cc33\">Correct</span>"
      ],
      "text/plain": [
       "Correct"
      ]
     },
     "metadata": {},
     "output_type": "display_data"
    },
    {
     "data": {
      "image/png": "[encoded data removed]",
      "text/plain": [
       "<Figure size 432x288 with 1 Axes>"
      ]
     },
     "metadata": {
      "needs_background": "light"
     },
     "output_type": "display_data"
    }
   ],
   "source": [
    "# Scatter plot w/ regression line showing the relationship between 'sugarpercent' and 'winpercent'\n",
    "sns.regplot(x=candy_data['sugarpercent'],y=candy_data['winpercent']) # Your code here\n",
    "\n",
    "# Check your answer\n",
    "step_4.a.check()"
   ]
  },
  {
   "cell_type": "code",
   "execution_count": 13,
   "id": "26404b52",
   "metadata": {
    "execution": {
     "iopub.execute_input": "2022-07-07T09:36:47.769826Z",
     "iopub.status.busy": "2022-07-07T09:36:47.769467Z",
     "iopub.status.idle": "2022-07-07T09:36:47.773334Z",
     "shell.execute_reply": "2022-07-07T09:36:47.772532Z"
    },
    "papermill": {
     "duration": 0.019292,
     "end_time": "2022-07-07T09:36:47.775286",
     "exception": false,
     "start_time": "2022-07-07T09:36:47.755994",
     "status": "completed"
    },
    "tags": []
   },
   "outputs": [],
   "source": [
    "# Lines below will give you a hint or solution code\n",
    "#step_4.a.hint()\n",
    "#step_4.a.solution_plot()"
   ]
  },
  {
   "cell_type": "markdown",
   "id": "991c655f",
   "metadata": {
    "papermill": {
     "duration": 0.012064,
     "end_time": "2022-07-07T09:36:47.799401",
     "exception": false,
     "start_time": "2022-07-07T09:36:47.787337",
     "status": "completed"
    },
    "tags": []
   },
   "source": [
    "#### Part B\n",
    "\n",
    "According to the plot above, is there a **slight** correlation between `'winpercent'` and `'sugarpercent'`?  What does this tell you about the candy that people tend to prefer?"
   ]
  },
  {
   "cell_type": "code",
   "execution_count": 14,
   "id": "aad899d1",
   "metadata": {
    "execution": {
     "iopub.execute_input": "2022-07-07T09:36:47.826078Z",
     "iopub.status.busy": "2022-07-07T09:36:47.825631Z",
     "iopub.status.idle": "2022-07-07T09:36:47.829580Z",
     "shell.execute_reply": "2022-07-07T09:36:47.828772Z"
    },
    "papermill": {
     "duration": 0.019632,
     "end_time": "2022-07-07T09:36:47.831484",
     "exception": false,
     "start_time": "2022-07-07T09:36:47.811852",
     "status": "completed"
    },
    "tags": []
   },
   "outputs": [],
   "source": [
    "#step_4.b.hint()"
   ]
  },
  {
   "cell_type": "code",
   "execution_count": 15,
   "id": "798cf400",
   "metadata": {
    "execution": {
     "iopub.execute_input": "2022-07-07T09:36:47.858168Z",
     "iopub.status.busy": "2022-07-07T09:36:47.857417Z",
     "iopub.status.idle": "2022-07-07T09:36:47.864406Z",
     "shell.execute_reply": "2022-07-07T09:36:47.863711Z"
    },
    "papermill": {
     "duration": 0.022889,
     "end_time": "2022-07-07T09:36:47.866609",
     "exception": false,
     "start_time": "2022-07-07T09:36:47.843720",
     "status": "completed"
    },
    "tags": []
   },
   "outputs": [
    {
     "data": {
      "application/javascript": [
       "parent.postMessage({\"jupyterEvent\": \"custom.exercise_interaction\", \"data\": {\"interactionType\": 3, \"questionType\": 4, \"questionId\": \"4.2_ThinkBlueReg\", \"learnToolsVersion\": \"0.3.4\", \"valueTowardsCompletion\": 0.0, \"failureMessage\": \"\", \"exceptionClass\": \"\", \"trace\": \"\", \"outcomeType\": 4}}, \"*\")"
      ],
      "text/plain": [
       "<IPython.core.display.Javascript object>"
      ]
     },
     "metadata": {},
     "output_type": "display_data"
    },
    {
     "data": {
      "text/markdown": [
       "<span style=\"color:#33cc99\">Solution:</span> Since the regression line has a slightly positive slope, this tells us that there is a slightly positive correlation between `'winpercent'` and `'sugarpercent'`. Thus, people have a slight preference for candies containing relatively more sugar."
      ],
      "text/plain": [
       "Solution: Since the regression line has a slightly positive slope, this tells us that there is a slightly positive correlation between `'winpercent'` and `'sugarpercent'`. Thus, people have a slight preference for candies containing relatively more sugar."
      ]
     },
     "metadata": {},
     "output_type": "display_data"
    }
   ],
   "source": [
    "# Check your answer (Run this code cell to receive credit!)\n",
    "step_4.b.solution()"
   ]
  },
  {
   "cell_type": "markdown",
   "id": "bc14b683",
   "metadata": {
    "papermill": {
     "duration": 0.012286,
     "end_time": "2022-07-07T09:36:47.891371",
     "exception": false,
     "start_time": "2022-07-07T09:36:47.879085",
     "status": "completed"
    },
    "tags": []
   },
   "source": [
    "## Step 5: Chocolate!\n",
    "\n",
    "In the code cell below, create a scatter plot to show the relationship between `'pricepercent'` (on the horizontal x-axis) and `'winpercent'` (on the vertical y-axis). Use the `'chocolate'` column to color-code the points.  _Don't add any regression lines just yet -- you'll do that in the next step!_"
   ]
  },
  {
   "cell_type": "code",
   "execution_count": 16,
   "id": "3a6178e6",
   "metadata": {
    "execution": {
     "iopub.execute_input": "2022-07-07T09:36:47.918780Z",
     "iopub.status.busy": "2022-07-07T09:36:47.918184Z",
     "iopub.status.idle": "2022-07-07T09:36:48.167738Z",
     "shell.execute_reply": "2022-07-07T09:36:48.166942Z"
    },
    "papermill": {
     "duration": 0.265989,
     "end_time": "2022-07-07T09:36:48.169924",
     "exception": false,
     "start_time": "2022-07-07T09:36:47.903935",
     "status": "completed"
    },
    "tags": []
   },
   "outputs": [
    {
     "data": {
      "application/javascript": [
       "parent.postMessage({\"jupyterEvent\": \"custom.exercise_interaction\", \"data\": {\"outcomeType\": 1, \"valueTowardsCompletion\": 0.3333333333333333, \"interactionType\": 1, \"questionType\": 2, \"questionId\": \"5_ColorScatter\", \"learnToolsVersion\": \"0.3.4\", \"failureMessage\": \"\", \"exceptionClass\": \"\", \"trace\": \"\"}}, \"*\")"
      ],
      "text/plain": [
       "<IPython.core.display.Javascript object>"
      ]
     },
     "metadata": {},
     "output_type": "display_data"
    },
    {
     "data": {
      "text/markdown": [
       "<span style=\"color:#33cc33\">Correct</span>"
      ],
      "text/plain": [
       "Correct"
      ]
     },
     "metadata": {},
     "output_type": "display_data"
    },
    {
     "data": {
      "image/png": "[encoded data removed]",
      "text/plain": [
       "<Figure size 432x288 with 1 Axes>"
      ]
     },
     "metadata": {
      "needs_background": "light"
     },
     "output_type": "display_data"
    }
   ],
   "source": [
    "# Scatter plot showing the relationship between 'pricepercent', 'winpercent', and 'chocolate'\n",
    "sns.scatterplot(x=candy_data['pricepercent'],y=candy_data['winpercent'],hue=candy_data['chocolate']) # Your code here\n",
    "\n",
    "# Check your answer\n",
    "step_5.check()"
   ]
  },
  {
   "cell_type": "code",
   "execution_count": 17,
   "id": "e36195ba",
   "metadata": {
    "execution": {
     "iopub.execute_input": "2022-07-07T09:36:48.198495Z",
     "iopub.status.busy": "2022-07-07T09:36:48.198091Z",
     "iopub.status.idle": "2022-07-07T09:36:48.203156Z",
     "shell.execute_reply": "2022-07-07T09:36:48.201693Z"
    },
    "papermill": {
     "duration": 0.022383,
     "end_time": "2022-07-07T09:36:48.205639",
     "exception": false,
     "start_time": "2022-07-07T09:36:48.183256",
     "status": "completed"
    },
    "tags": []
   },
   "outputs": [],
   "source": [
    "# Lines below will give you a hint or solution code\n",
    "#step_5.hint()\n",
    "#step_5.solution_plot()"
   ]
  },
  {
   "cell_type": "markdown",
   "id": "551eaee1",
   "metadata": {
    "papermill": {
     "duration": 0.012954,
     "end_time": "2022-07-07T09:36:48.232038",
     "exception": false,
     "start_time": "2022-07-07T09:36:48.219084",
     "status": "completed"
    },
    "tags": []
   },
   "source": [
    "Can you see any interesting patterns in the scatter plot?  We'll investigate this plot further  by adding regression lines in the next step!\n",
    "\n",
    "## Step 6: Investigate chocolate\n",
    "\n",
    "#### Part A\n",
    "\n",
    "Create the same scatter plot you created in **Step 5**, but now with two regression lines, corresponding to (1) chocolate candies and (2) candies without chocolate."
   ]
  },
  {
   "cell_type": "code",
   "execution_count": 18,
   "id": "b2a5f95c",
   "metadata": {
    "execution": {
     "iopub.execute_input": "2022-07-07T09:36:48.260219Z",
     "iopub.status.busy": "2022-07-07T09:36:48.259789Z",
     "iopub.status.idle": "2022-07-07T09:36:48.866882Z",
     "shell.execute_reply": "2022-07-07T09:36:48.865782Z"
    },
    "papermill": {
     "duration": 0.624043,
     "end_time": "2022-07-07T09:36:48.869318",
     "exception": false,
     "start_time": "2022-07-07T09:36:48.245275",
     "status": "completed"
    },
    "tags": []
   },
   "outputs": [
    {
     "data": {
      "application/javascript": [
       "parent.postMessage({\"jupyterEvent\": \"custom.exercise_interaction\", \"data\": {\"outcomeType\": 1, \"valueTowardsCompletion\": 0.3333333333333333, \"interactionType\": 1, \"questionType\": 2, \"questionId\": \"6.1_PlotColorReg\", \"learnToolsVersion\": \"0.3.4\", \"failureMessage\": \"\", \"exceptionClass\": \"\", \"trace\": \"\"}}, \"*\")"
      ],
      "text/plain": [
       "<IPython.core.display.Javascript object>"
      ]
     },
     "metadata": {},
     "output_type": "display_data"
    },
    {
     "data": {
      "text/markdown": [
       "<span style=\"color:#33cc33\">Correct</span>"
      ],
      "text/plain": [
       "Correct"
      ]
     },
     "metadata": {},
     "output_type": "display_data"
    },
    {
     "data": {
      "image/png": "[encoded data removed]",
      "text/plain": [
       "<Figure size 416.375x360 with 1 Axes>"
      ]
     },
     "metadata": {
      "needs_background": "light"
     },
     "output_type": "display_data"
    }
   ],
   "source": [
    "# Color-coded scatter plot w/ regression lines\n",
    "sns.lmplot(x='pricepercent',y='winpercent',hue='chocolate',data=candy_data) # Your code here\n",
    "\n",
    "# Check your answer\n",
    "step_6.a.check()"
   ]
  },
  {
   "cell_type": "code",
   "execution_count": 19,
   "id": "50246abf",
   "metadata": {
    "execution": {
     "iopub.execute_input": "2022-07-07T09:36:48.901027Z",
     "iopub.status.busy": "2022-07-07T09:36:48.899890Z",
     "iopub.status.idle": "2022-07-07T09:36:48.905316Z",
     "shell.execute_reply": "2022-07-07T09:36:48.904304Z"
    },
    "papermill": {
     "duration": 0.023585,
     "end_time": "2022-07-07T09:36:48.907648",
     "exception": false,
     "start_time": "2022-07-07T09:36:48.884063",
     "status": "completed"
    },
    "tags": []
   },
   "outputs": [],
   "source": [
    "# Lines below will give you a hint or solution code\n",
    "#step_6.a.hint()\n",
    "#step_6.a.solution_plot()"
   ]
  },
  {
   "cell_type": "markdown",
   "id": "db4b655d",
   "metadata": {
    "papermill": {
     "duration": 0.013817,
     "end_time": "2022-07-07T09:36:48.935541",
     "exception": false,
     "start_time": "2022-07-07T09:36:48.921724",
     "status": "completed"
    },
    "tags": []
   },
   "source": [
    "#### Part B\n",
    "\n",
    "Using the regression lines, what conclusions can you draw about the effects of chocolate and price on candy popularity?"
   ]
  },
  {
   "cell_type": "code",
   "execution_count": 20,
   "id": "573894f2",
   "metadata": {
    "execution": {
     "iopub.execute_input": "2022-07-07T09:36:48.966395Z",
     "iopub.status.busy": "2022-07-07T09:36:48.965989Z",
     "iopub.status.idle": "2022-07-07T09:36:48.969770Z",
     "shell.execute_reply": "2022-07-07T09:36:48.969011Z"
    },
    "papermill": {
     "duration": 0.021743,
     "end_time": "2022-07-07T09:36:48.971973",
     "exception": false,
     "start_time": "2022-07-07T09:36:48.950230",
     "status": "completed"
    },
    "tags": []
   },
   "outputs": [],
   "source": [
    "#step_6.b.hint()"
   ]
  },
  {
   "cell_type": "code",
   "execution_count": 21,
   "id": "e549a3b4",
   "metadata": {
    "execution": {
     "iopub.execute_input": "2022-07-07T09:36:49.002145Z",
     "iopub.status.busy": "2022-07-07T09:36:49.001525Z",
     "iopub.status.idle": "2022-07-07T09:36:49.010132Z",
     "shell.execute_reply": "2022-07-07T09:36:49.009145Z"
    },
    "papermill": {
     "duration": 0.026444,
     "end_time": "2022-07-07T09:36:49.012271",
     "exception": false,
     "start_time": "2022-07-07T09:36:48.985827",
     "status": "completed"
    },
    "tags": []
   },
   "outputs": [
    {
     "data": {
      "application/javascript": [
       "parent.postMessage({\"jupyterEvent\": \"custom.exercise_interaction\", \"data\": {\"interactionType\": 3, \"questionType\": 4, \"questionId\": \"6.2_ThinkColorReg\", \"learnToolsVersion\": \"0.3.4\", \"valueTowardsCompletion\": 0.0, \"failureMessage\": \"\", \"exceptionClass\": \"\", \"trace\": \"\", \"outcomeType\": 4}}, \"*\")"
      ],
      "text/plain": [
       "<IPython.core.display.Javascript object>"
      ]
     },
     "metadata": {},
     "output_type": "display_data"
    },
    {
     "data": {
      "text/markdown": [
       "<span style=\"color:#33cc99\">Solution:</span> We'll begin with the regression line for chocolate candies. Since this line has a slightly positive slope, we can say that more expensive chocolate candies tend to be more popular (than relatively cheaper chocolate candies).  Likewise, since the regression line for candies without chocolate has a negative slope, we can say that if candies don't contain chocolate, they tend to be more popular when they are cheaper.  One important note, however, is that the dataset is quite small -- so we shouldn't invest too much trust in these patterns!  To inspire more confidence in the results, we should add more candies to the dataset."
      ],
      "text/plain": [
       "Solution: We'll begin with the regression line for chocolate candies. Since this line has a slightly positive slope, we can say that more expensive chocolate candies tend to be more popular (than relatively cheaper chocolate candies).  Likewise, since the regression line for candies without chocolate has a negative slope, we can say that if candies don't contain chocolate, they tend to be more popular when they are cheaper.  One important note, however, is that the dataset is quite small -- so we shouldn't invest too much trust in these patterns!  To inspire more confidence in the results, we should add more candies to the dataset."
      ]
     },
     "metadata": {},
     "output_type": "display_data"
    }
   ],
   "source": [
    "# Check your answer (Run this code cell to receive credit!)\n",
    "step_6.b.solution()"
   ]
  },
  {
   "cell_type": "markdown",
   "id": "c5587553",
   "metadata": {
    "papermill": {
     "duration": 0.013951,
     "end_time": "2022-07-07T09:36:49.040510",
     "exception": false,
     "start_time": "2022-07-07T09:36:49.026559",
     "status": "completed"
    },
    "tags": []
   },
   "source": [
    "## Step 7: Everybody loves chocolate.\n",
    "\n",
    "#### Part A\n",
    "\n",
    "Create a categorical scatter plot to highlight the relationship between `'chocolate'` and `'winpercent'`.  Put `'chocolate'` on the (horizontal) x-axis, and `'winpercent'` on the (vertical) y-axis."
   ]
  },
  {
   "cell_type": "code",
   "execution_count": 22,
   "id": "43c3cc50",
   "metadata": {
    "execution": {
     "iopub.execute_input": "2022-07-07T09:36:49.070610Z",
     "iopub.status.busy": "2022-07-07T09:36:49.070227Z",
     "iopub.status.idle": "2022-07-07T09:36:49.258541Z",
     "shell.execute_reply": "2022-07-07T09:36:49.257447Z"
    },
    "papermill": {
     "duration": 0.206354,
     "end_time": "2022-07-07T09:36:49.260963",
     "exception": false,
     "start_time": "2022-07-07T09:36:49.054609",
     "status": "completed"
    },
    "tags": []
   },
   "outputs": [
    {
     "data": {
      "application/javascript": [
       "parent.postMessage({\"jupyterEvent\": \"custom.exercise_interaction\", \"data\": {\"outcomeType\": 1, \"valueTowardsCompletion\": 0.3333333333333333, \"interactionType\": 1, \"questionType\": 2, \"questionId\": \"7.1_PlotSwarm\", \"learnToolsVersion\": \"0.3.4\", \"failureMessage\": \"\", \"exceptionClass\": \"\", \"trace\": \"\"}}, \"*\")"
      ],
      "text/plain": [
       "<IPython.core.display.Javascript object>"
      ]
     },
     "metadata": {},
     "output_type": "display_data"
    },
    {
     "data": {
      "text/markdown": [
       "<span style=\"color:#33cc33\">Correct</span>"
      ],
      "text/plain": [
       "Correct"
      ]
     },
     "metadata": {},
     "output_type": "display_data"
    },
    {
     "data": {
      "image/png": "[encoded data removed]",
      "text/plain": [
       "<Figure size 432x288 with 1 Axes>"
      ]
     },
     "metadata": {
      "needs_background": "light"
     },
     "output_type": "display_data"
    }
   ],
   "source": [
    "# Scatter plot showing the relationship between 'chocolate' and 'winpercent'\n",
    "sns.swarmplot(x=candy_data['chocolate'],y=candy_data['winpercent']) # Your code here\n",
    "\n",
    "# Check your answer\n",
    "step_7.a.check()"
   ]
  },
  {
   "cell_type": "code",
   "execution_count": 23,
   "id": "4f136fe3",
   "metadata": {
    "execution": {
     "iopub.execute_input": "2022-07-07T09:36:49.292648Z",
     "iopub.status.busy": "2022-07-07T09:36:49.292249Z",
     "iopub.status.idle": "2022-07-07T09:36:49.298293Z",
     "shell.execute_reply": "2022-07-07T09:36:49.297388Z"
    },
    "papermill": {
     "duration": 0.024958,
     "end_time": "2022-07-07T09:36:49.300992",
     "exception": false,
     "start_time": "2022-07-07T09:36:49.276034",
     "status": "completed"
    },
    "tags": []
   },
   "outputs": [],
   "source": [
    "# Lines below will give you a hint or solution code\n",
    "#step_7.a.hint()\n",
    "#step_7.a.solution_plot()"
   ]
  },
  {
   "cell_type": "markdown",
   "id": "d6a7dc33",
   "metadata": {
    "papermill": {
     "duration": 0.015006,
     "end_time": "2022-07-07T09:36:49.331312",
     "exception": false,
     "start_time": "2022-07-07T09:36:49.316306",
     "status": "completed"
    },
    "tags": []
   },
   "source": [
    "#### Part B\n",
    "\n",
    "You decide to dedicate a section of your report to the fact that chocolate candies tend to be more popular than candies without chocolate.  Which plot is more appropriate to tell this story: the plot from **Step 6**, or the plot from **Step 7**?"
   ]
  },
  {
   "cell_type": "code",
   "execution_count": 24,
   "id": "159a244e",
   "metadata": {
    "execution": {
     "iopub.execute_input": "2022-07-07T09:36:49.363674Z",
     "iopub.status.busy": "2022-07-07T09:36:49.363255Z",
     "iopub.status.idle": "2022-07-07T09:36:49.368416Z",
     "shell.execute_reply": "2022-07-07T09:36:49.367218Z"
    },
    "papermill": {
     "duration": 0.024142,
     "end_time": "2022-07-07T09:36:49.370728",
     "exception": false,
     "start_time": "2022-07-07T09:36:49.346586",
     "status": "completed"
    },
    "tags": []
   },
   "outputs": [],
   "source": [
    "#step_7.b.hint()"
   ]
  },
  {
   "cell_type": "code",
   "execution_count": 25,
   "id": "3442e2c0",
   "metadata": {
    "execution": {
     "iopub.execute_input": "2022-07-07T09:36:49.403490Z",
     "iopub.status.busy": "2022-07-07T09:36:49.402458Z",
     "iopub.status.idle": "2022-07-07T09:36:49.410744Z",
     "shell.execute_reply": "2022-07-07T09:36:49.410035Z"
    },
    "papermill": {
     "duration": 0.027037,
     "end_time": "2022-07-07T09:36:49.412918",
     "exception": false,
     "start_time": "2022-07-07T09:36:49.385881",
     "status": "completed"
    },
    "tags": []
   },
   "outputs": [
    {
     "data": {
      "application/javascript": [
       "parent.postMessage({\"jupyterEvent\": \"custom.exercise_interaction\", \"data\": {\"interactionType\": 3, \"questionType\": 4, \"questionId\": \"7.2_ThinkSwarm\", \"learnToolsVersion\": \"0.3.4\", \"valueTowardsCompletion\": 0.0, \"failureMessage\": \"\", \"exceptionClass\": \"\", \"trace\": \"\", \"outcomeType\": 4}}, \"*\")"
      ],
      "text/plain": [
       "<IPython.core.display.Javascript object>"
      ]
     },
     "metadata": {},
     "output_type": "display_data"
    },
    {
     "data": {
      "text/markdown": [
       "<span style=\"color:#33cc99\">Solution:</span> In this case, the categorical scatter plot from **Step 7** is the more appropriate plot. While both plots tell the desired story, the plot from **Step 6** conveys far more information that could distract from the main point."
      ],
      "text/plain": [
       "Solution: In this case, the categorical scatter plot from **Step 7** is the more appropriate plot. While both plots tell the desired story, the plot from **Step 6** conveys far more information that could distract from the main point."
      ]
     },
     "metadata": {},
     "output_type": "display_data"
    }
   ],
   "source": [
    "# Check your answer (Run this code cell to receive credit!)\n",
    "step_7.b.solution()"
   ]
  },
  {
   "cell_type": "markdown",
   "id": "64e641b4",
   "metadata": {
    "papermill": {
     "duration": 0.015058,
     "end_time": "2022-07-07T09:36:49.443941",
     "exception": false,
     "start_time": "2022-07-07T09:36:49.428883",
     "status": "completed"
    },
    "tags": []
   },
   "source": [
    "## Keep going\n",
    "\n",
    "Explore **[histograms and density plots](https://www.kaggle.com/alexisbcook/distributions)**."
   ]
  },
  {
   "cell_type": "markdown",
   "id": "037883bc",
   "metadata": {
    "papermill": {
     "duration": 0.014987,
     "end_time": "2022-07-07T09:36:49.474234",
     "exception": false,
     "start_time": "2022-07-07T09:36:49.459247",
     "status": "completed"
    },
    "tags": []
   },
   "source": [
    "---\n",
    "\n",
    "\n",
    "\n",
    "\n",
    "*Have questions or comments? Visit the [course discussion forum](https://www.kaggle.com/learn/data-visualization/discussion) to chat with other learners.*"
   ]
  }
 ],
 "metadata": {
  "kernelspec": {
   "display_name": "Python 3",
   "language": "python",
   "name": "python3"
  },
  "language_info": {
   "codemirror_mode": {
    "name": "ipython",
    "version": 3
   },
   "file_extension": ".py",
   "mimetype": "text/x-python",
   "name": "python",
   "nbconvert_exporter": "python",
   "pygments_lexer": "ipython3",
   "version": "3.7.12"
  },
  "papermill": {
   "default_parameters": {},
   "duration": 14.407149,
   "end_time": "2022-07-07T09:36:50.212388",
   "environment_variables": {},
   "exception": null,
   "input_path": "__notebook__.ipynb",
   "output_path": "__notebook__.ipynb",
   "parameters": {},
   "start_time": "2022-07-07T09:36:35.805239",
   "version": "2.3.4"
  }
 },
 "nbformat": 4,
 "nbformat_minor": 5
}
