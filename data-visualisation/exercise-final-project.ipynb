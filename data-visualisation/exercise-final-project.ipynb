{
 "cells": [
  {
   "cell_type": "markdown",
   "id": "bce939d5",
   "metadata": {
    "papermill": {
     "duration": 0.011965,
     "end_time": "2022-07-07T13:37:21.876134",
     "exception": false,
     "start_time": "2022-07-07T13:37:21.864169",
     "status": "completed"
    },
    "tags": []
   },
   "source": [
    "**This notebook is an exercise in the [Data Visualization](https://www.kaggle.com/learn/data-visualization) course.  You can reference the tutorial at [this link](https://www.kaggle.com/alexisbcook/final-project).**\n",
    "\n",
    "---\n"
   ]
  },
  {
   "cell_type": "markdown",
   "id": "481bbd4a",
   "metadata": {
    "papermill": {
     "duration": 0.005854,
     "end_time": "2022-07-07T13:37:21.891927",
     "exception": false,
     "start_time": "2022-07-07T13:37:21.886073",
     "status": "completed"
    },
    "tags": []
   },
   "source": [
    "Now it's time for you to demonstrate your new skills with a project of your own!\n",
    "\n",
    "In this exercise, you will work with a dataset of your choosing.  Once you've selected a dataset, you'll design and create your own plot to tell interesting stories behind the data!\n",
    "\n",
    "## Setup\n",
    "\n",
    "Run the next cell to import and configure the Python libraries that you need to complete the exercise."
   ]
  },
  {
   "cell_type": "code",
   "execution_count": 1,
   "id": "eef20f3f",
   "metadata": {
    "execution": {
     "iopub.execute_input": "2022-07-07T13:37:21.906132Z",
     "iopub.status.busy": "2022-07-07T13:37:21.905539Z",
     "iopub.status.idle": "2022-07-07T13:37:23.206944Z",
     "shell.execute_reply": "2022-07-07T13:37:23.205613Z"
    },
    "papermill": {
     "duration": 1.312098,
     "end_time": "2022-07-07T13:37:23.210027",
     "exception": false,
     "start_time": "2022-07-07T13:37:21.897929",
     "status": "completed"
    },
    "tags": []
   },
   "outputs": [
    {
     "name": "stdout",
     "output_type": "stream",
     "text": [
      "Setup Complete\n"
     ]
    }
   ],
   "source": [
    "import pandas as pd\n",
    "pd.plotting.register_matplotlib_converters()\n",
    "import matplotlib.pyplot as plt\n",
    "%matplotlib inline\n",
    "import seaborn as sns\n",
    "print(\"Setup Complete\")"
   ]
  },
  {
   "cell_type": "markdown",
   "id": "9bf0095b",
   "metadata": {
    "papermill": {
     "duration": 0.005845,
     "end_time": "2022-07-07T13:37:23.222117",
     "exception": false,
     "start_time": "2022-07-07T13:37:23.216272",
     "status": "completed"
    },
    "tags": []
   },
   "source": [
    "The questions below will give you feedback on your work. Run the following cell to set up the feedback system."
   ]
  },
  {
   "cell_type": "code",
   "execution_count": 2,
   "id": "eebb2f84",
   "metadata": {
    "execution": {
     "iopub.execute_input": "2022-07-07T13:37:23.235886Z",
     "iopub.status.busy": "2022-07-07T13:37:23.235493Z",
     "iopub.status.idle": "2022-07-07T13:37:23.283253Z",
     "shell.execute_reply": "2022-07-07T13:37:23.282054Z"
    },
    "papermill": {
     "duration": 0.057503,
     "end_time": "2022-07-07T13:37:23.285606",
     "exception": false,
     "start_time": "2022-07-07T13:37:23.228103",
     "status": "completed"
    },
    "tags": []
   },
   "outputs": [
    {
     "name": "stdout",
     "output_type": "stream",
     "text": [
      "Setup Complete\n"
     ]
    }
   ],
   "source": [
    "# Set up code checking\n",
    "from learntools.core import binder\n",
    "binder.bind(globals())\n",
    "from learntools.data_viz_to_coder.ex7 import *\n",
    "print(\"Setup Complete\")"
   ]
  },
  {
   "cell_type": "markdown",
   "id": "edffff04",
   "metadata": {
    "papermill": {
     "duration": 0.005978,
     "end_time": "2022-07-07T13:37:23.297876",
     "exception": false,
     "start_time": "2022-07-07T13:37:23.291898",
     "status": "completed"
    },
    "tags": []
   },
   "source": [
    "## Step 1: Attach a dataset to the notebook\n",
    "\n",
    "Begin by selecting a CSV dataset from [Kaggle Datasets](https://www.kaggle.com/datasets).  If you're unsure how to do this, please revisit the instructions in the previous tutorial.\n",
    "\n",
    "Once you have selected a dataset, click on the **[+ Add data]** option in the top right corner.  This will generate a pop-up window that you can use to search for your chosen dataset.  \n",
    "\n",
    "![ex6_search_dataset](https://i.imgur.com/cIIWPUS.png)\n",
    "\n",
    "Once you have found the dataset, click on the **[Add]** button to attach it to the notebook.  You can check that it was successful by looking at the **Data** dropdown menu to the right of the notebook -- look for an **input** folder containing a subfolder that matches the name of the dataset.\n",
    "\n",
    "<center>\n",
    "<img src=\"https://i.imgur.com/nMYc1Nu.png\" width=30%><br/>\n",
    "</center>\n",
    "\n",
    "You can click on the carat to the left of the name of the dataset to double-check that it contains a CSV file.  For instance, the image below shows that the example dataset contains two CSV files: (1) **dc-wikia-data.csv**, and (2) **marvel-wikia-data.csv**.\n",
    "\n",
    "<center>\n",
    "<img src=\"https://i.imgur.com/B4sJkVA.png\" width=30%><br/>\n",
    "</center>\n",
    "\n",
    "Once you've uploaded a dataset with a CSV file, run the code cell below **without changes** to receive credit for your work!"
   ]
  },
  {
   "cell_type": "code",
   "execution_count": 3,
   "id": "49d5a4ae",
   "metadata": {
    "execution": {
     "iopub.execute_input": "2022-07-07T13:37:23.312190Z",
     "iopub.status.busy": "2022-07-07T13:37:23.311433Z",
     "iopub.status.idle": "2022-07-07T13:37:23.328363Z",
     "shell.execute_reply": "2022-07-07T13:37:23.327147Z"
    },
    "papermill": {
     "duration": 0.02648,
     "end_time": "2022-07-07T13:37:23.330453",
     "exception": false,
     "start_time": "2022-07-07T13:37:23.303973",
     "status": "completed"
    },
    "tags": []
   },
   "outputs": [
    {
     "data": {
      "application/javascript": [
       "parent.postMessage({\"jupyterEvent\": \"custom.exercise_interaction\", \"data\": {\"outcomeType\": 1, \"valueTowardsCompletion\": 0.25, \"interactionType\": 1, \"questionType\": 2, \"questionId\": \"1_AttachData\", \"learnToolsVersion\": \"0.3.4\", \"failureMessage\": \"\", \"exceptionClass\": \"\", \"trace\": \"\"}}, \"*\")"
      ],
      "text/plain": [
       "<IPython.core.display.Javascript object>"
      ]
     },
     "metadata": {},
     "output_type": "display_data"
    },
    {
     "data": {
      "text/markdown": [
       "<span style=\"color:#33cc33\">Correct:</span> \n",
       "\n"
      ],
      "text/plain": [
       "Correct: \n"
      ]
     },
     "metadata": {},
     "output_type": "display_data"
    }
   ],
   "source": [
    "# Check for a dataset with a CSV file\n",
    "step_1.check()"
   ]
  },
  {
   "cell_type": "markdown",
   "id": "f5eac927",
   "metadata": {
    "papermill": {
     "duration": 0.005956,
     "end_time": "2022-07-07T13:37:23.342765",
     "exception": false,
     "start_time": "2022-07-07T13:37:23.336809",
     "status": "completed"
    },
    "tags": []
   },
   "source": [
    "## Step 2: Specify the filepath\n",
    "\n",
    "Now that the dataset is attached to the notebook, you can find its filepath.  To do this, begin by clicking on the CSV file you'd like to use.  This will open the CSV file in a tab below the notebook.  You can find the filepath towards the top of this new tab.  \n",
    "\n",
    "![ex6_filepath](https://i.imgur.com/fgXQV47.png)\n",
    "\n",
    "After you find the filepath corresponding to your dataset, fill it in as the value for `my_filepath` in the code cell below, and run the code cell to check that you've provided a valid filepath.  For instance, in the case of this example dataset, we would set\n",
    "```\n",
    "my_filepath = \"../input/fivethirtyeight-comic-characters-dataset/dc-wikia-data.csv\"\n",
    "```  \n",
    "Note that **you must enclose the filepath in quotation marks**; otherwise, the code will return an error.\n",
    "\n",
    "Once you've entered the filepath, you can close the tab below the notebook by clicking on the **[X]** at the top of the tab."
   ]
  },
  {
   "cell_type": "code",
   "execution_count": 4,
   "id": "185f051a",
   "metadata": {
    "execution": {
     "iopub.execute_input": "2022-07-07T13:37:23.357958Z",
     "iopub.status.busy": "2022-07-07T13:37:23.356920Z",
     "iopub.status.idle": "2022-07-07T13:37:23.366146Z",
     "shell.execute_reply": "2022-07-07T13:37:23.365311Z"
    },
    "papermill": {
     "duration": 0.01927,
     "end_time": "2022-07-07T13:37:23.368338",
     "exception": false,
     "start_time": "2022-07-07T13:37:23.349068",
     "status": "completed"
    },
    "tags": []
   },
   "outputs": [
    {
     "data": {
      "application/javascript": [
       "parent.postMessage({\"jupyterEvent\": \"custom.exercise_interaction\", \"data\": {\"outcomeType\": 1, \"valueTowardsCompletion\": 0.25, \"interactionType\": 1, \"questionType\": 2, \"questionId\": \"2_Filepath\", \"learnToolsVersion\": \"0.3.4\", \"failureMessage\": \"\", \"exceptionClass\": \"\", \"trace\": \"\"}}, \"*\")"
      ],
      "text/plain": [
       "<IPython.core.display.Javascript object>"
      ]
     },
     "metadata": {},
     "output_type": "display_data"
    },
    {
     "data": {
      "text/markdown": [
       "<span style=\"color:#33cc33\">Correct:</span> \n",
       "\n"
      ],
      "text/plain": [
       "Correct: \n"
      ]
     },
     "metadata": {},
     "output_type": "display_data"
    }
   ],
   "source": [
    "# Fill in the line below: Specify the path of the CSV file to read\n",
    "my_filepath = \"../input/nsw-covid19-cases-by-location/confirmed_cases_table1_location.csv\"\n",
    "\n",
    "# Check for a valid filepath to a CSV file in a dataset\n",
    "step_2.check()"
   ]
  },
  {
   "cell_type": "markdown",
   "id": "dca0024e",
   "metadata": {
    "papermill": {
     "duration": 0.006978,
     "end_time": "2022-07-07T13:37:23.382136",
     "exception": false,
     "start_time": "2022-07-07T13:37:23.375158",
     "status": "completed"
    },
    "tags": []
   },
   "source": [
    "## Step 3: Load the data\n",
    "\n",
    "Use the next code cell to load your data file into `my_data`.  Use the filepath that you specified in the previous step."
   ]
  },
  {
   "cell_type": "code",
   "execution_count": 5,
   "id": "38f52cdb",
   "metadata": {
    "execution": {
     "iopub.execute_input": "2022-07-07T13:37:23.398543Z",
     "iopub.status.busy": "2022-07-07T13:37:23.397793Z",
     "iopub.status.idle": "2022-07-07T13:37:24.854786Z",
     "shell.execute_reply": "2022-07-07T13:37:24.853880Z"
    },
    "papermill": {
     "duration": 1.467858,
     "end_time": "2022-07-07T13:37:24.857122",
     "exception": false,
     "start_time": "2022-07-07T13:37:23.389264",
     "status": "completed"
    },
    "tags": []
   },
   "outputs": [
    {
     "data": {
      "application/javascript": [
       "parent.postMessage({\"jupyterEvent\": \"custom.exercise_interaction\", \"data\": {\"outcomeType\": 1, \"valueTowardsCompletion\": 0.25, \"interactionType\": 1, \"questionType\": 2, \"questionId\": \"3_LoadData\", \"learnToolsVersion\": \"0.3.4\", \"failureMessage\": \"\", \"exceptionClass\": \"\", \"trace\": \"\"}}, \"*\")"
      ],
      "text/plain": [
       "<IPython.core.display.Javascript object>"
      ]
     },
     "metadata": {},
     "output_type": "display_data"
    },
    {
     "data": {
      "text/markdown": [
       "<span style=\"color:#33cc33\">Correct:</span> \n",
       "\n"
      ],
      "text/plain": [
       "Correct: \n"
      ]
     },
     "metadata": {},
     "output_type": "display_data"
    }
   ],
   "source": [
    "# Fill in the line below: Read the file into a variable my_data\n",
    "my_data = pd.read_csv(my_filepath)\n",
    "\n",
    "# Check that a dataset has been uploaded into my_data\n",
    "step_3.check()"
   ]
  },
  {
   "cell_type": "markdown",
   "id": "07268efe",
   "metadata": {
    "papermill": {
     "duration": 0.007414,
     "end_time": "2022-07-07T13:37:24.871591",
     "exception": false,
     "start_time": "2022-07-07T13:37:24.864177",
     "status": "completed"
    },
    "tags": []
   },
   "source": [
    "**_After the code cell above is marked correct_**, run the code cell below without changes to view the first five rows of the data."
   ]
  },
  {
   "cell_type": "code",
   "execution_count": 6,
   "id": "bfe75633",
   "metadata": {
    "execution": {
     "iopub.execute_input": "2022-07-07T13:37:24.888842Z",
     "iopub.status.busy": "2022-07-07T13:37:24.887700Z",
     "iopub.status.idle": "2022-07-07T13:37:24.911756Z",
     "shell.execute_reply": "2022-07-07T13:37:24.910547Z"
    },
    "papermill": {
     "duration": 0.035111,
     "end_time": "2022-07-07T13:37:24.914215",
     "exception": false,
     "start_time": "2022-07-07T13:37:24.879104",
     "status": "completed"
    },
    "tags": []
   },
   "outputs": [
    {
     "data": {
      "text/html": [
       "<div>\n",
       "<style scoped>\n",
       "    .dataframe tbody tr th:only-of-type {\n",
       "        vertical-align: middle;\n",
       "    }\n",
       "\n",
       "    .dataframe tbody tr th {\n",
       "        vertical-align: top;\n",
       "    }\n",
       "\n",
       "    .dataframe thead th {\n",
       "        text-align: right;\n",
       "    }\n",
       "</style>\n",
       "<table border=\"1\" class=\"dataframe\">\n",
       "  <thead>\n",
       "    <tr style=\"text-align: right;\">\n",
       "      <th></th>\n",
       "      <th>notification_date</th>\n",
       "      <th>postcode</th>\n",
       "      <th>lhd_2010_code</th>\n",
       "      <th>lhd_2010_name</th>\n",
       "      <th>lga_code19</th>\n",
       "      <th>lga_name19</th>\n",
       "    </tr>\n",
       "  </thead>\n",
       "  <tbody>\n",
       "    <tr>\n",
       "      <th>0</th>\n",
       "      <td>2020-01-25</td>\n",
       "      <td>2134</td>\n",
       "      <td>X700</td>\n",
       "      <td>Sydney</td>\n",
       "      <td>11300</td>\n",
       "      <td>Burwood (A)</td>\n",
       "    </tr>\n",
       "    <tr>\n",
       "      <th>1</th>\n",
       "      <td>2020-01-25</td>\n",
       "      <td>2121</td>\n",
       "      <td>X760</td>\n",
       "      <td>Northern Sydney</td>\n",
       "      <td>16260</td>\n",
       "      <td>Parramatta (C)</td>\n",
       "    </tr>\n",
       "    <tr>\n",
       "      <th>2</th>\n",
       "      <td>2020-01-25</td>\n",
       "      <td>2071</td>\n",
       "      <td>X760</td>\n",
       "      <td>Northern Sydney</td>\n",
       "      <td>14500</td>\n",
       "      <td>Ku-ring-gai (A)</td>\n",
       "    </tr>\n",
       "    <tr>\n",
       "      <th>3</th>\n",
       "      <td>2020-01-27</td>\n",
       "      <td>2033</td>\n",
       "      <td>X720</td>\n",
       "      <td>South Eastern Sydney</td>\n",
       "      <td>16550</td>\n",
       "      <td>Randwick (C)</td>\n",
       "    </tr>\n",
       "    <tr>\n",
       "      <th>4</th>\n",
       "      <td>2020-03-01</td>\n",
       "      <td>2077</td>\n",
       "      <td>X760</td>\n",
       "      <td>Northern Sydney</td>\n",
       "      <td>14000</td>\n",
       "      <td>Hornsby (A)</td>\n",
       "    </tr>\n",
       "  </tbody>\n",
       "</table>\n",
       "</div>"
      ],
      "text/plain": [
       "  notification_date postcode lhd_2010_code         lhd_2010_name lga_code19  \\\n",
       "0        2020-01-25     2134          X700                Sydney      11300   \n",
       "1        2020-01-25     2121          X760       Northern Sydney      16260   \n",
       "2        2020-01-25     2071          X760       Northern Sydney      14500   \n",
       "3        2020-01-27     2033          X720  South Eastern Sydney      16550   \n",
       "4        2020-03-01     2077          X760       Northern Sydney      14000   \n",
       "\n",
       "        lga_name19  \n",
       "0      Burwood (A)  \n",
       "1   Parramatta (C)  \n",
       "2  Ku-ring-gai (A)  \n",
       "3     Randwick (C)  \n",
       "4      Hornsby (A)  "
      ]
     },
     "execution_count": 6,
     "metadata": {},
     "output_type": "execute_result"
    }
   ],
   "source": [
    "# Print the first five rows of the data\n",
    "my_data.head()"
   ]
  },
  {
   "cell_type": "code",
   "execution_count": 7,
   "id": "3414004c",
   "metadata": {
    "execution": {
     "iopub.execute_input": "2022-07-07T13:37:24.929929Z",
     "iopub.status.busy": "2022-07-07T13:37:24.929531Z",
     "iopub.status.idle": "2022-07-07T13:37:24.943378Z",
     "shell.execute_reply": "2022-07-07T13:37:24.942083Z"
    },
    "papermill": {
     "duration": 0.024422,
     "end_time": "2022-07-07T13:37:24.945704",
     "exception": false,
     "start_time": "2022-07-07T13:37:24.921282",
     "status": "completed"
    },
    "tags": []
   },
   "outputs": [
    {
     "data": {
      "text/html": [
       "<div>\n",
       "<style scoped>\n",
       "    .dataframe tbody tr th:only-of-type {\n",
       "        vertical-align: middle;\n",
       "    }\n",
       "\n",
       "    .dataframe tbody tr th {\n",
       "        vertical-align: top;\n",
       "    }\n",
       "\n",
       "    .dataframe thead th {\n",
       "        text-align: right;\n",
       "    }\n",
       "</style>\n",
       "<table border=\"1\" class=\"dataframe\">\n",
       "  <thead>\n",
       "    <tr style=\"text-align: right;\">\n",
       "      <th></th>\n",
       "      <th>notification_date</th>\n",
       "      <th>postcode</th>\n",
       "      <th>lhd_2010_code</th>\n",
       "      <th>lhd_2010_name</th>\n",
       "      <th>lga_code19</th>\n",
       "      <th>lga_name19</th>\n",
       "    </tr>\n",
       "  </thead>\n",
       "  <tbody>\n",
       "    <tr>\n",
       "      <th>973407</th>\n",
       "      <td>2022-02-07</td>\n",
       "      <td>2283</td>\n",
       "      <td>X800</td>\n",
       "      <td>Hunter New England</td>\n",
       "      <td>14650</td>\n",
       "      <td>Lake Macquarie (C)</td>\n",
       "    </tr>\n",
       "    <tr>\n",
       "      <th>973408</th>\n",
       "      <td>2022-02-07</td>\n",
       "      <td>2019</td>\n",
       "      <td>X720</td>\n",
       "      <td>South Eastern Sydney</td>\n",
       "      <td>10500</td>\n",
       "      <td>Bayside (A)</td>\n",
       "    </tr>\n",
       "    <tr>\n",
       "      <th>973409</th>\n",
       "      <td>2022-02-07</td>\n",
       "      <td>2076</td>\n",
       "      <td>X760</td>\n",
       "      <td>Northern Sydney</td>\n",
       "      <td>14500</td>\n",
       "      <td>Ku-ring-gai (A)</td>\n",
       "    </tr>\n",
       "    <tr>\n",
       "      <th>973410</th>\n",
       "      <td>2022-02-07</td>\n",
       "      <td>2760</td>\n",
       "      <td>X750</td>\n",
       "      <td>Nepean Blue Mountains</td>\n",
       "      <td>16350</td>\n",
       "      <td>Penrith (C)</td>\n",
       "    </tr>\n",
       "    <tr>\n",
       "      <th>973411</th>\n",
       "      <td>2022-02-07</td>\n",
       "      <td>2066</td>\n",
       "      <td>X760</td>\n",
       "      <td>Northern Sydney</td>\n",
       "      <td>14700</td>\n",
       "      <td>Lane Cove (A)</td>\n",
       "    </tr>\n",
       "  </tbody>\n",
       "</table>\n",
       "</div>"
      ],
      "text/plain": [
       "       notification_date postcode lhd_2010_code          lhd_2010_name  \\\n",
       "973407        2022-02-07     2283          X800     Hunter New England   \n",
       "973408        2022-02-07     2019          X720   South Eastern Sydney   \n",
       "973409        2022-02-07     2076          X760        Northern Sydney   \n",
       "973410        2022-02-07     2760          X750  Nepean Blue Mountains   \n",
       "973411        2022-02-07     2066          X760        Northern Sydney   \n",
       "\n",
       "       lga_code19          lga_name19  \n",
       "973407      14650  Lake Macquarie (C)  \n",
       "973408      10500         Bayside (A)  \n",
       "973409      14500     Ku-ring-gai (A)  \n",
       "973410      16350         Penrith (C)  \n",
       "973411      14700       Lane Cove (A)  "
      ]
     },
     "execution_count": 7,
     "metadata": {},
     "output_type": "execute_result"
    }
   ],
   "source": [
    "# Print the last five rows of the data\n",
    "my_data.tail()"
   ]
  },
  {
   "cell_type": "markdown",
   "id": "8a952032",
   "metadata": {
    "papermill": {
     "duration": 0.007205,
     "end_time": "2022-07-07T13:37:24.960186",
     "exception": false,
     "start_time": "2022-07-07T13:37:24.952981",
     "status": "completed"
    },
    "tags": []
   },
   "source": [
    "## Step 4: Visualize the data\n",
    "\n",
    "Use the next code cell to create a figure that tells a story behind your dataset.  You can use any chart type (_line chart, bar chart, heatmap, etc_) of your choosing!"
   ]
  },
  {
   "cell_type": "code",
   "execution_count": 8,
   "id": "5f2a5098",
   "metadata": {
    "execution": {
     "iopub.execute_input": "2022-07-07T13:37:24.978459Z",
     "iopub.status.busy": "2022-07-07T13:37:24.977360Z",
     "iopub.status.idle": "2022-07-07T13:37:25.729303Z",
     "shell.execute_reply": "2022-07-07T13:37:25.727309Z"
    },
    "papermill": {
     "duration": 0.764497,
     "end_time": "2022-07-07T13:37:25.732811",
     "exception": false,
     "start_time": "2022-07-07T13:37:24.968314",
     "status": "completed"
    },
    "tags": []
   },
   "outputs": [
    {
     "data": {
      "text/html": [
       "<div>\n",
       "<style scoped>\n",
       "    .dataframe tbody tr th:only-of-type {\n",
       "        vertical-align: middle;\n",
       "    }\n",
       "\n",
       "    .dataframe tbody tr th {\n",
       "        vertical-align: top;\n",
       "    }\n",
       "\n",
       "    .dataframe thead th {\n",
       "        text-align: right;\n",
       "    }\n",
       "</style>\n",
       "<table border=\"1\" class=\"dataframe\">\n",
       "  <thead>\n",
       "    <tr style=\"text-align: right;\">\n",
       "      <th></th>\n",
       "      <th>notification_date</th>\n",
       "      <th>postcode</th>\n",
       "      <th>lhd_2010_code</th>\n",
       "      <th>lhd_2010_name</th>\n",
       "      <th>lga_code19</th>\n",
       "    </tr>\n",
       "    <tr>\n",
       "      <th>lga_name19</th>\n",
       "      <th></th>\n",
       "      <th></th>\n",
       "      <th></th>\n",
       "      <th></th>\n",
       "      <th></th>\n",
       "    </tr>\n",
       "  </thead>\n",
       "  <tbody>\n",
       "    <tr>\n",
       "      <th>Albury (C)</th>\n",
       "      <td>4945</td>\n",
       "      <td>4945</td>\n",
       "      <td>4945</td>\n",
       "      <td>4945</td>\n",
       "      <td>4945</td>\n",
       "    </tr>\n",
       "    <tr>\n",
       "      <th>Armidale Regional (A)</th>\n",
       "      <td>2263</td>\n",
       "      <td>2263</td>\n",
       "      <td>2263</td>\n",
       "      <td>2263</td>\n",
       "      <td>2263</td>\n",
       "    </tr>\n",
       "    <tr>\n",
       "      <th>Ballina (A)</th>\n",
       "      <td>3775</td>\n",
       "      <td>3775</td>\n",
       "      <td>3775</td>\n",
       "      <td>3775</td>\n",
       "      <td>3775</td>\n",
       "    </tr>\n",
       "    <tr>\n",
       "      <th>Balranald (A)</th>\n",
       "      <td>155</td>\n",
       "      <td>155</td>\n",
       "      <td>155</td>\n",
       "      <td>155</td>\n",
       "      <td>155</td>\n",
       "    </tr>\n",
       "    <tr>\n",
       "      <th>Bathurst Regional (A)</th>\n",
       "      <td>3608</td>\n",
       "      <td>3608</td>\n",
       "      <td>3608</td>\n",
       "      <td>3608</td>\n",
       "      <td>3608</td>\n",
       "    </tr>\n",
       "    <tr>\n",
       "      <th>...</th>\n",
       "      <td>...</td>\n",
       "      <td>...</td>\n",
       "      <td>...</td>\n",
       "      <td>...</td>\n",
       "      <td>...</td>\n",
       "    </tr>\n",
       "    <tr>\n",
       "      <th>Wingecarribee (A)</th>\n",
       "      <td>4196</td>\n",
       "      <td>4196</td>\n",
       "      <td>4196</td>\n",
       "      <td>4196</td>\n",
       "      <td>4196</td>\n",
       "    </tr>\n",
       "    <tr>\n",
       "      <th>Wollondilly (A)</th>\n",
       "      <td>4491</td>\n",
       "      <td>4491</td>\n",
       "      <td>4491</td>\n",
       "      <td>4491</td>\n",
       "      <td>4491</td>\n",
       "    </tr>\n",
       "    <tr>\n",
       "      <th>Wollongong (C)</th>\n",
       "      <td>25143</td>\n",
       "      <td>25143</td>\n",
       "      <td>25143</td>\n",
       "      <td>25143</td>\n",
       "      <td>25143</td>\n",
       "    </tr>\n",
       "    <tr>\n",
       "      <th>Woollahra (A)</th>\n",
       "      <td>6927</td>\n",
       "      <td>6927</td>\n",
       "      <td>6927</td>\n",
       "      <td>6927</td>\n",
       "      <td>6927</td>\n",
       "    </tr>\n",
       "    <tr>\n",
       "      <th>Yass Valley (A)</th>\n",
       "      <td>856</td>\n",
       "      <td>856</td>\n",
       "      <td>856</td>\n",
       "      <td>856</td>\n",
       "      <td>856</td>\n",
       "    </tr>\n",
       "  </tbody>\n",
       "</table>\n",
       "<p>130 rows × 5 columns</p>\n",
       "</div>"
      ],
      "text/plain": [
       "                       notification_date  postcode  lhd_2010_code  \\\n",
       "lga_name19                                                          \n",
       "Albury (C)                          4945      4945           4945   \n",
       "Armidale Regional (A)               2263      2263           2263   \n",
       "Ballina (A)                         3775      3775           3775   \n",
       "Balranald (A)                        155       155            155   \n",
       "Bathurst Regional (A)               3608      3608           3608   \n",
       "...                                  ...       ...            ...   \n",
       "Wingecarribee (A)                   4196      4196           4196   \n",
       "Wollondilly (A)                     4491      4491           4491   \n",
       "Wollongong (C)                     25143     25143          25143   \n",
       "Woollahra (A)                       6927      6927           6927   \n",
       "Yass Valley (A)                      856       856            856   \n",
       "\n",
       "                       lhd_2010_name  lga_code19  \n",
       "lga_name19                                        \n",
       "Albury (C)                      4945        4945  \n",
       "Armidale Regional (A)           2263        2263  \n",
       "Ballina (A)                     3775        3775  \n",
       "Balranald (A)                    155         155  \n",
       "Bathurst Regional (A)           3608        3608  \n",
       "...                              ...         ...  \n",
       "Wingecarribee (A)               4196        4196  \n",
       "Wollondilly (A)                 4491        4491  \n",
       "Wollongong (C)                 25143       25143  \n",
       "Woollahra (A)                   6927        6927  \n",
       "Yass Valley (A)                  856         856  \n",
       "\n",
       "[130 rows x 5 columns]"
      ]
     },
     "execution_count": 8,
     "metadata": {},
     "output_type": "execute_result"
    }
   ],
   "source": [
    "# Group cases by LGA name\n",
    "my_data_groupby_lga = my_data.groupby('lga_name19').count()\n",
    "my_data_groupby_lga"
   ]
  },
  {
   "cell_type": "code",
   "execution_count": 9,
   "id": "c20fe628",
   "metadata": {
    "execution": {
     "iopub.execute_input": "2022-07-07T13:37:25.753497Z",
     "iopub.status.busy": "2022-07-07T13:37:25.751759Z",
     "iopub.status.idle": "2022-07-07T13:37:29.042875Z",
     "shell.execute_reply": "2022-07-07T13:37:29.041407Z"
    },
    "papermill": {
     "duration": 3.303699,
     "end_time": "2022-07-07T13:37:29.045415",
     "exception": false,
     "start_time": "2022-07-07T13:37:25.741716",
     "status": "completed"
    },
    "tags": []
   },
   "outputs": [
    {
     "data": {
      "application/javascript": [
       "parent.postMessage({\"jupyterEvent\": \"custom.exercise_interaction\", \"data\": {\"outcomeType\": 1, \"valueTowardsCompletion\": 0.25, \"interactionType\": 1, \"questionType\": 2, \"questionId\": \"4_CreatePlot\", \"learnToolsVersion\": \"0.3.4\", \"failureMessage\": \"\", \"exceptionClass\": \"\", \"trace\": \"\"}}, \"*\")"
      ],
      "text/plain": [
       "<IPython.core.display.Javascript object>"
      ]
     },
     "metadata": {},
     "output_type": "display_data"
    },
    {
     "data": {
      "text/markdown": [
       "<span style=\"color:#33cc33\">Correct:</span> \n",
       "\n"
      ],
      "text/plain": [
       "Correct: \n"
      ]
     },
     "metadata": {},
     "output_type": "display_data"
    },
    {
     "data": {
      "image/png": "[encoded data removed]",
      "text/plain": [
       "<Figure size 720x1800 with 1 Axes>"
      ]
     },
     "metadata": {
      "needs_background": "light"
     },
     "output_type": "display_data"
    }
   ],
   "source": [
    "# Create a plot\n",
    "plt.figure(figsize=(10,25))\n",
    "\n",
    "# Plot barplot\n",
    "barplot = sns.barplot(data=my_data_groupby_lga,y=my_data_groupby_lga.index,x='notification_date') # Your code here\n",
    "\n",
    "# Label axes\n",
    "barplot.set_xlabel(\"Number of Cases\")\n",
    "barplot.set_ylabel(\"LGA\")\n",
    "\n",
    "# Set title\n",
    "barplot.set_title(\"Number of Covid Cases per LGA (2020-2022)\")\n",
    "\n",
    "# Save figure\n",
    "plt.savefig('covid_cases_per_lga')\n",
    "\n",
    "# Check that a figure appears below\n",
    "step_4.check()"
   ]
  },
  {
   "cell_type": "code",
   "execution_count": 10,
   "id": "1d7f1509",
   "metadata": {
    "execution": {
     "iopub.execute_input": "2022-07-07T13:37:29.070651Z",
     "iopub.status.busy": "2022-07-07T13:37:29.070243Z",
     "iopub.status.idle": "2022-07-07T13:37:29.378068Z",
     "shell.execute_reply": "2022-07-07T13:37:29.376700Z"
    },
    "papermill": {
     "duration": 0.324392,
     "end_time": "2022-07-07T13:37:29.381025",
     "exception": false,
     "start_time": "2022-07-07T13:37:29.056633",
     "status": "completed"
    },
    "tags": []
   },
   "outputs": [],
   "source": [
    "# Convert dates from string to date-time\n",
    "my_data['notification_date'] = pd.to_datetime(my_data['notification_date'], format = '%Y-%m-%d')\n"
   ]
  },
  {
   "cell_type": "code",
   "execution_count": 11,
   "id": "b2515cc8",
   "metadata": {
    "execution": {
     "iopub.execute_input": "2022-07-07T13:37:29.403649Z",
     "iopub.status.busy": "2022-07-07T13:37:29.403232Z",
     "iopub.status.idle": "2022-07-07T13:37:30.032023Z",
     "shell.execute_reply": "2022-07-07T13:37:30.030333Z"
    },
    "papermill": {
     "duration": 0.643541,
     "end_time": "2022-07-07T13:37:30.034756",
     "exception": false,
     "start_time": "2022-07-07T13:37:29.391215",
     "status": "completed"
    },
    "tags": []
   },
   "outputs": [
    {
     "data": {
      "text/html": [
       "<div>\n",
       "<style scoped>\n",
       "    .dataframe tbody tr th:only-of-type {\n",
       "        vertical-align: middle;\n",
       "    }\n",
       "\n",
       "    .dataframe tbody tr th {\n",
       "        vertical-align: top;\n",
       "    }\n",
       "\n",
       "    .dataframe thead th {\n",
       "        text-align: right;\n",
       "    }\n",
       "</style>\n",
       "<table border=\"1\" class=\"dataframe\">\n",
       "  <thead>\n",
       "    <tr style=\"text-align: right;\">\n",
       "      <th></th>\n",
       "      <th>postcode</th>\n",
       "      <th>lhd_2010_code</th>\n",
       "      <th>lhd_2010_name</th>\n",
       "      <th>lga_code19</th>\n",
       "      <th>lga_name19</th>\n",
       "    </tr>\n",
       "    <tr>\n",
       "      <th>notification_date</th>\n",
       "      <th></th>\n",
       "      <th></th>\n",
       "      <th></th>\n",
       "      <th></th>\n",
       "      <th></th>\n",
       "    </tr>\n",
       "  </thead>\n",
       "  <tbody>\n",
       "    <tr>\n",
       "      <th>2020-01-25</th>\n",
       "      <td>3</td>\n",
       "      <td>3</td>\n",
       "      <td>3</td>\n",
       "      <td>3</td>\n",
       "      <td>3</td>\n",
       "    </tr>\n",
       "    <tr>\n",
       "      <th>2020-01-27</th>\n",
       "      <td>1</td>\n",
       "      <td>1</td>\n",
       "      <td>1</td>\n",
       "      <td>1</td>\n",
       "      <td>1</td>\n",
       "    </tr>\n",
       "    <tr>\n",
       "      <th>2020-03-01</th>\n",
       "      <td>2</td>\n",
       "      <td>2</td>\n",
       "      <td>2</td>\n",
       "      <td>2</td>\n",
       "      <td>2</td>\n",
       "    </tr>\n",
       "    <tr>\n",
       "      <th>2020-03-02</th>\n",
       "      <td>3</td>\n",
       "      <td>3</td>\n",
       "      <td>3</td>\n",
       "      <td>3</td>\n",
       "      <td>3</td>\n",
       "    </tr>\n",
       "    <tr>\n",
       "      <th>2020-03-03</th>\n",
       "      <td>6</td>\n",
       "      <td>6</td>\n",
       "      <td>6</td>\n",
       "      <td>6</td>\n",
       "      <td>6</td>\n",
       "    </tr>\n",
       "    <tr>\n",
       "      <th>...</th>\n",
       "      <td>...</td>\n",
       "      <td>...</td>\n",
       "      <td>...</td>\n",
       "      <td>...</td>\n",
       "      <td>...</td>\n",
       "    </tr>\n",
       "    <tr>\n",
       "      <th>2022-02-03</th>\n",
       "      <td>10122</td>\n",
       "      <td>10026</td>\n",
       "      <td>10026</td>\n",
       "      <td>10023</td>\n",
       "      <td>10023</td>\n",
       "    </tr>\n",
       "    <tr>\n",
       "      <th>2022-02-04</th>\n",
       "      <td>8821</td>\n",
       "      <td>8721</td>\n",
       "      <td>8721</td>\n",
       "      <td>8720</td>\n",
       "      <td>8720</td>\n",
       "    </tr>\n",
       "    <tr>\n",
       "      <th>2022-02-05</th>\n",
       "      <td>7122</td>\n",
       "      <td>7050</td>\n",
       "      <td>7050</td>\n",
       "      <td>7048</td>\n",
       "      <td>7048</td>\n",
       "    </tr>\n",
       "    <tr>\n",
       "      <th>2022-02-06</th>\n",
       "      <td>7393</td>\n",
       "      <td>7328</td>\n",
       "      <td>7328</td>\n",
       "      <td>7328</td>\n",
       "      <td>7328</td>\n",
       "    </tr>\n",
       "    <tr>\n",
       "      <th>2022-02-07</th>\n",
       "      <td>6136</td>\n",
       "      <td>6089</td>\n",
       "      <td>6089</td>\n",
       "      <td>6088</td>\n",
       "      <td>6088</td>\n",
       "    </tr>\n",
       "  </tbody>\n",
       "</table>\n",
       "<p>686 rows × 5 columns</p>\n",
       "</div>"
      ],
      "text/plain": [
       "                   postcode  lhd_2010_code  lhd_2010_name  lga_code19  \\\n",
       "notification_date                                                       \n",
       "2020-01-25                3              3              3           3   \n",
       "2020-01-27                1              1              1           1   \n",
       "2020-03-01                2              2              2           2   \n",
       "2020-03-02                3              3              3           3   \n",
       "2020-03-03                6              6              6           6   \n",
       "...                     ...            ...            ...         ...   \n",
       "2022-02-03            10122          10026          10026       10023   \n",
       "2022-02-04             8821           8721           8721        8720   \n",
       "2022-02-05             7122           7050           7050        7048   \n",
       "2022-02-06             7393           7328           7328        7328   \n",
       "2022-02-07             6136           6089           6089        6088   \n",
       "\n",
       "                   lga_name19  \n",
       "notification_date              \n",
       "2020-01-25                  3  \n",
       "2020-01-27                  1  \n",
       "2020-03-01                  2  \n",
       "2020-03-02                  3  \n",
       "2020-03-03                  6  \n",
       "...                       ...  \n",
       "2022-02-03              10023  \n",
       "2022-02-04               8720  \n",
       "2022-02-05               7048  \n",
       "2022-02-06               7328  \n",
       "2022-02-07               6088  \n",
       "\n",
       "[686 rows x 5 columns]"
      ]
     },
     "execution_count": 11,
     "metadata": {},
     "output_type": "execute_result"
    }
   ],
   "source": [
    "# Group cases by date and sum cases for each date\n",
    "my_data_groupby_date = my_data.groupby('notification_date').count()\n",
    "\n",
    "my_data_groupby_date"
   ]
  },
  {
   "cell_type": "code",
   "execution_count": 12,
   "id": "75400cc9",
   "metadata": {
    "execution": {
     "iopub.execute_input": "2022-07-07T13:37:30.058395Z",
     "iopub.status.busy": "2022-07-07T13:37:30.057962Z",
     "iopub.status.idle": "2022-07-07T13:37:30.926898Z",
     "shell.execute_reply": "2022-07-07T13:37:30.925602Z"
    },
    "papermill": {
     "duration": 0.88407,
     "end_time": "2022-07-07T13:37:30.929856",
     "exception": false,
     "start_time": "2022-07-07T13:37:30.045786",
     "status": "completed"
    },
    "tags": []
   },
   "outputs": [
    {
     "data": {
      "image/png": "[encoded data removed]",
      "text/plain": [
       "<Figure size 2160x720 with 1 Axes>"
      ]
     },
     "metadata": {
      "needs_background": "light"
     },
     "output_type": "display_data"
    }
   ],
   "source": [
    "# Create a plot\n",
    "plt.figure(figsize=(30,10))\n",
    "\n",
    "# Set style to whitegrid\n",
    "sns.set_style(\"whitegrid\")\n",
    "\n",
    "# Plot lineplot\n",
    "lineplot = sns.lineplot(data=my_data_groupby_date,x='notification_date',y='postcode')\n",
    "\n",
    "# Set title\n",
    "lineplot.set_title(\"Number of Covid Cases\",size=25)\n",
    "\n",
    "# Label axes\n",
    "lineplot.set_xlabel(\"Date\", size=20)\n",
    "lineplot.set_ylabel(\"Number of Cases\", size=20)\n",
    "\n",
    "# Set xtick, ytick sizes\n",
    "#lineplot.set_xticklabels(lineplot.get_xticks(), size = 10)\n",
    "#lineplot.set_yticklabels(lineplot.get_yticks(), size = 10)\n",
    "\n",
    "\n",
    "# Save figure\n",
    "plt.savefig('covid_cases_timeseries')"
   ]
  },
  {
   "cell_type": "markdown",
   "id": "c415041e",
   "metadata": {
    "papermill": {
     "duration": 0.010985,
     "end_time": "2022-07-07T13:37:30.952764",
     "exception": false,
     "start_time": "2022-07-07T13:37:30.941779",
     "status": "completed"
    },
    "tags": []
   },
   "source": [
    "## Keep going\n",
    "\n",
    "Learn how to use your skills after completing the micro-course to create data visualizations in a **[final tutorial](https://www.kaggle.com/alexisbcook/creating-your-own-notebooks)**."
   ]
  },
  {
   "cell_type": "markdown",
   "id": "f2b3ea8a",
   "metadata": {
    "papermill": {
     "duration": 0.011648,
     "end_time": "2022-07-07T13:37:30.977207",
     "exception": false,
     "start_time": "2022-07-07T13:37:30.965559",
     "status": "completed"
    },
    "tags": []
   },
   "source": [
    "---\n",
    "\n",
    "\n",
    "\n",
    "\n",
    "*Have questions or comments? Visit the [course discussion forum](https://www.kaggle.com/learn/data-visualization/discussion) to chat with other learners.*"
   ]
  }
 ],
 "metadata": {
  "kernelspec": {
   "display_name": "Python 3",
   "language": "python",
   "name": "python3"
  },
  "language_info": {
   "codemirror_mode": {
    "name": "ipython",
    "version": 3
   },
   "file_extension": ".py",
   "mimetype": "text/x-python",
   "name": "python",
   "nbconvert_exporter": "python",
   "pygments_lexer": "ipython3",
   "version": "3.7.12"
  },
  "papermill": {
   "default_parameters": {},
   "duration": 21.642474,
   "end_time": "2022-07-07T13:37:31.814826",
   "environment_variables": {},
   "exception": null,
   "input_path": "__notebook__.ipynb",
   "output_path": "__notebook__.ipynb",
   "parameters": {},
   "start_time": "2022-07-07T13:37:10.172352",
   "version": "2.3.4"
  }
 },
 "nbformat": 4,
 "nbformat_minor": 5
}
